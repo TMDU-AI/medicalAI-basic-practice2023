{
  "nbformat": 4,
  "nbformat_minor": 0,
  "metadata": {
    "colab": {
      "provenance": []
    },
    "kernelspec": {
      "name": "python3",
      "display_name": "Python 3"
    },
    "language_info": {
      "name": "python"
    }
  },
  "cells": [
    {
      "cell_type": "markdown",
      "source": [
        "# **STEP0 事前準備**"
      ],
      "metadata": {
        "id": "86cyjb45ccDx"
      }
    },
    {
      "cell_type": "markdown",
      "source": [
        "**コード10-1**"
      ],
      "metadata": {
        "id": "od3mJ08GQBGG"
      }
    },
    {
      "cell_type": "code",
      "source": [
        "import numpy as np\n",
        "import pandas as pd\n",
        "import matplotlib.pyplot as plt"
      ],
      "metadata": {
        "id": "QWn_yDE_RteE"
      },
      "execution_count": null,
      "outputs": []
    },
    {
      "cell_type": "markdown",
      "source": [
        "# **STEP1 データの用意**"
      ],
      "metadata": {
        "id": "ULOmrYNNckbv"
      }
    },
    {
      "cell_type": "markdown",
      "source": [
        "**コード10-2**"
      ],
      "metadata": {
        "id": "p9yex4dfQHBR"
      }
    },
    {
      "cell_type": "code",
      "source": [
        "from sklearn.datasets import load_diabetes\n",
        "dm = load_diabetes(as_frame=True, scaled=False)\n",
        "\n",
        "y_dm = dm.target\n",
        "x_dm = dm.data"
      ],
      "metadata": {
        "id": "v16-LAlmRwvb"
      },
      "execution_count": null,
      "outputs": []
    },
    {
      "cell_type": "markdown",
      "source": [
        "**コード10-3 学習用データと検証用データに分割**"
      ],
      "metadata": {
        "id": "MHRL1K1c6YbT"
      }
    },
    {
      "cell_type": "code",
      "source": [
        "from sklearn.model_selection import train_test_split\n",
        "x_train, x_test, y_train, y_test = train_test_split(x_dm, y_dm,\n",
        "                                                  test_size = 0.3,\n",
        "                                                  random_state = 0)"
      ],
      "metadata": {
        "id": "g1ZbjptN6YDX"
      },
      "execution_count": null,
      "outputs": []
    },
    {
      "cell_type": "markdown",
      "source": [
        "**コード10-4分割されたデータを調べる**"
      ],
      "metadata": {
        "id": "jxpE2LATQIqO"
      }
    },
    {
      "cell_type": "code",
      "source": [
        "print(x_train.shape)\n",
        "print(x_test.shape)\n",
        "print(y_train.shape)\n",
        "print(y_test.shape)"
      ],
      "metadata": {
        "id": "0t4jNgPbbXXq"
      },
      "execution_count": null,
      "outputs": []
    },
    {
      "cell_type": "markdown",
      "source": [
        "# **STEP2 ~ STEP3**"
      ],
      "metadata": {
        "id": "omrwTeFPQqEp"
      }
    },
    {
      "cell_type": "markdown",
      "source": [
        "**コード10-5 学習用(train)データで学習する**"
      ],
      "metadata": {
        "id": "QqnBIpZ9c_Cq"
      }
    },
    {
      "cell_type": "code",
      "source": [
        "from sklearn.linear_model import LinearRegression\n",
        "model_dm = LinearRegression()\n",
        "model_dm.fit(x_train, y_train)"
      ],
      "metadata": {
        "id": "w61zleiZSHnk"
      },
      "execution_count": null,
      "outputs": []
    },
    {
      "cell_type": "markdown",
      "source": [
        "# **STEP5〜STEP6**"
      ],
      "metadata": {
        "id": "pjy1HiwGdTSi"
      }
    },
    {
      "cell_type": "markdown",
      "source": [
        "**コード10-6 検証用(test)データで予測結果を評価**"
      ],
      "metadata": {
        "id": "X6HaE6B9Q9ns"
      }
    },
    {
      "cell_type": "code",
      "source": [
        "print(model_dm.predict(x_test))"
      ],
      "metadata": {
        "id": "69s_MM3aQv_g"
      },
      "execution_count": null,
      "outputs": []
    },
    {
      "cell_type": "code",
      "source": [
        "print(np.array(y_test))"
      ],
      "metadata": {
        "id": "5_CGYCSo9LHN"
      },
      "execution_count": null,
      "outputs": []
    },
    {
      "cell_type": "markdown",
      "source": [
        "**コード10-7 検証データで実測値と予測値を比較**"
      ],
      "metadata": {
        "id": "FZ6RWNJIyIAl"
      }
    },
    {
      "cell_type": "code",
      "source": [
        "plt.scatter(y_test,model_dm.predict(x_test))"
      ],
      "metadata": {
        "id": "zI4Q_I-r-eMH"
      },
      "execution_count": null,
      "outputs": []
    },
    {
      "cell_type": "markdown",
      "source": [
        "**コード10-8 検証データでモデルの性能評価**"
      ],
      "metadata": {
        "id": "aQ9-nV-Gdymh"
      }
    },
    {
      "cell_type": "code",
      "source": [
        "print(model_dm.score(x_test, y_test))"
      ],
      "metadata": {
        "id": "sn9k31PaW1E_"
      },
      "execution_count": null,
      "outputs": []
    },
    {
      "cell_type": "markdown",
      "source": [
        "# **ロジスティック回帰**"
      ],
      "metadata": {
        "id": "qxc8TMmPeawn"
      }
    },
    {
      "cell_type": "markdown",
      "source": [
        "# **STEP0 事前準備**"
      ],
      "metadata": {
        "id": "UlIJZkdgevti"
      }
    },
    {
      "cell_type": "markdown",
      "source": [
        "**コード10-9 利用ライブラリのインポート**"
      ],
      "metadata": {
        "id": "XJJfF5wfep8w"
      }
    },
    {
      "cell_type": "code",
      "source": [
        "import numpy as np\n",
        "import pandas as pd"
      ],
      "metadata": {
        "id": "wavYnC3te0pc"
      },
      "execution_count": null,
      "outputs": []
    },
    {
      "cell_type": "markdown",
      "source": [
        "# **STEP1 データの用意**"
      ],
      "metadata": {
        "id": "9mjzCglUe56g"
      }
    },
    {
      "cell_type": "markdown",
      "source": [
        "**コード10-10 乳がんデータの読み込み**"
      ],
      "metadata": {
        "id": "E5bWoHEEe9nq"
      }
    },
    {
      "cell_type": "code",
      "source": [
        "from sklearn.datasets import load_breast_cancer\n",
        "bc = load_breast_cancer(as_frame= True)"
      ],
      "metadata": {
        "id": "7q8PZ43vfFOu"
      },
      "execution_count": null,
      "outputs": []
    },
    {
      "cell_type": "markdown",
      "source": [
        "**コード10-11 bcの内容を調べる①**"
      ],
      "metadata": {
        "id": "N4UL0N9-fSrH"
      }
    },
    {
      "cell_type": "code",
      "source": [
        "bc"
      ],
      "metadata": {
        "id": "21hMM5urfPEo"
      },
      "execution_count": null,
      "outputs": []
    },
    {
      "cell_type": "code",
      "source": [
        "type(bc)"
      ],
      "metadata": {
        "id": "cA3mFKDEfYIY"
      },
      "execution_count": null,
      "outputs": []
    },
    {
      "cell_type": "markdown",
      "source": [
        "**コード10-12 bcの内容を調べる②**"
      ],
      "metadata": {
        "id": "aeQ4yyt-fd6t"
      }
    },
    {
      "cell_type": "code",
      "source": [
        "print(bc.DESCR)"
      ],
      "metadata": {
        "id": "e3P-XG2LfiTs"
      },
      "execution_count": null,
      "outputs": []
    }
  ]
}