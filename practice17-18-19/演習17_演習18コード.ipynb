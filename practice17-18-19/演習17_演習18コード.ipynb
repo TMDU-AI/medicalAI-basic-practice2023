{
  "nbformat": 4,
  "nbformat_minor": 0,
  "metadata": {
    "colab": {
      "private_outputs": true,
      "provenance": []
    },
    "kernelspec": {
      "name": "python3",
      "display_name": "Python 3"
    },
    "language_info": {
      "name": "python"
    }
  },
  "cells": [
    {
      "cell_type": "markdown",
      "source": [
        "# **演習17**"
      ],
      "metadata": {
        "id": "Tojf9JwWgiRV"
      }
    },
    {
      "cell_type": "markdown",
      "source": [
        "**コード17-1 Google Driveのマウント**"
      ],
      "metadata": {
        "id": "1L3DFmjCgmwi"
      }
    },
    {
      "cell_type": "code",
      "source": [
        "from google.colab import drive\n",
        "drive.mount('/content/drive', force_remount=True)"
      ],
      "metadata": {
        "id": "NEg6ASDmbl4I"
      },
      "execution_count": null,
      "outputs": []
    },
    {
      "cell_type": "markdown",
      "source": [
        "**コード17-2 zipファイルを解凍する**"
      ],
      "metadata": {
        "id": "0H0LcieuhIW5"
      }
    },
    {
      "cell_type": "code",
      "source": [
        "!unzip '/content/drive/MyDrive/images_TMDU.zip'"
      ],
      "metadata": {
        "id": "EAtxy54P2Say"
      },
      "execution_count": null,
      "outputs": []
    },
    {
      "cell_type": "markdown",
      "source": [
        "**コード17-3 利用するモジュールのインポート**"
      ],
      "metadata": {
        "id": "ZKgvXI0ViGsq"
      }
    },
    {
      "cell_type": "code",
      "source": [
        "import matplotlib.pyplot as plt\n",
        "from keras.preprocessing.image import load_img, img_to_array"
      ],
      "metadata": {
        "id": "hwl1qUWK2SeK"
      },
      "execution_count": null,
      "outputs": []
    },
    {
      "cell_type": "markdown",
      "source": [
        "**コード17-4 「test.jpg」の読み込みと図示**"
      ],
      "metadata": {
        "id": "M1XHZFXSiRic"
      }
    },
    {
      "cell_type": "code",
      "source": [
        "test = load_img('/content/images/test.jpg', color_mode='rgb')\n",
        "plt.imshow(test)\n",
        "plt.show()\n",
        "print(test)"
      ],
      "metadata": {
        "id": "-2Hbk86R2SXJ"
      },
      "execution_count": null,
      "outputs": []
    },
    {
      "cell_type": "markdown",
      "source": [
        "**コード17-5 画像サイズとカラーモードの変換**"
      ],
      "metadata": {
        "id": "aNNRQ2mlif4N"
      }
    },
    {
      "cell_type": "code",
      "source": [
        "test2 = load_img('/content/images/test.jpg',\n",
        "                 color_mode='grayscale',\n",
        "                 target_size=(10,10))\n",
        "plt.imshow(test2, 'gray')\n",
        "plt.show()\n",
        "print(test2)"
      ],
      "metadata": {
        "id": "WOn8hBXj2STx"
      },
      "execution_count": null,
      "outputs": []
    },
    {
      "cell_type": "markdown",
      "source": [
        "**コード17-6 画像データを配列データに変換**"
      ],
      "metadata": {
        "id": "kynVq0CHi93T"
      }
    },
    {
      "cell_type": "code",
      "source": [
        "test2_img = img_to_array(test2)\n",
        "print(test2_img)\n",
        "print(test2_img.shape)"
      ],
      "metadata": {
        "id": "fTc-Xcur2SJF"
      },
      "execution_count": null,
      "outputs": []
    },
    {
      "cell_type": "markdown",
      "source": [
        "**コード17-7 画像をサイズ(10,10)とカラーで読み込み図示**"
      ],
      "metadata": {
        "id": "VozRYJtZjSGL"
      }
    },
    {
      "cell_type": "code",
      "source": [
        "test3 = load_img('/content/images/test.jpg',\n",
        "                 color_mode='rgb',\n",
        "                 target_size=(10,10))\n",
        "plt.imshow(test3)\n",
        "plt.show()"
      ],
      "metadata": {
        "id": "oSlFrJ7p2emz"
      },
      "execution_count": null,
      "outputs": []
    },
    {
      "cell_type": "markdown",
      "source": [
        "**コード17-8 画像をサイズ(10,10)とカラーで読み込み配列に変換**"
      ],
      "metadata": {
        "id": "CgB4O0cKjb8J"
      }
    },
    {
      "cell_type": "code",
      "source": [
        "test3_img = img_to_array(test3)\n",
        "print(test3_img)\n",
        "print(test3_img.shape)"
      ],
      "metadata": {
        "id": "YLxSv_VmjOnN"
      },
      "execution_count": null,
      "outputs": []
    },
    {
      "cell_type": "markdown",
      "source": [
        "**コード17-9 インデックスで三次元配列へのアクセス**"
      ],
      "metadata": {
        "id": "SHpv-83ojuxa"
      }
    },
    {
      "cell_type": "code",
      "source": [
        "print(test3_img[0])\n",
        "print(test3_img[0][0])\n",
        "print(test3_img[0][0][0])"
      ],
      "metadata": {
        "id": "e2KHtlXy2iUD"
      },
      "execution_count": null,
      "outputs": []
    },
    {
      "cell_type": "markdown",
      "source": [
        "## **深層学習　画像データセットで分類を行う**"
      ],
      "metadata": {
        "id": "_x4Ci1ORQ7ZK"
      }
    },
    {
      "cell_type": "markdown",
      "source": [
        "# **STEP0：事前準備**"
      ],
      "metadata": {
        "id": "9hXa6V7iRFuF"
      }
    },
    {
      "cell_type": "markdown",
      "source": [
        "**コード18-1 ライブラリ・モジュール・クラスをインポート**"
      ],
      "metadata": {
        "id": "bMCrcTNRk74y"
      }
    },
    {
      "cell_type": "code",
      "source": [
        "import numpy as np\n",
        "import matplotlib.pyplot as plt\n",
        "import os\n",
        "from keras.preprocessing.image import load_img, img_to_array\n",
        "from keras.models import Sequential\n",
        "from keras.layers import Dense, Flatten, Dropout\n",
        "from keras.utils import set_random_seed"
      ],
      "metadata": {
        "id": "mQ6Es0csvAzE"
      },
      "execution_count": null,
      "outputs": []
    },
    {
      "cell_type": "markdown",
      "source": [
        "**コード18-2 zipファイルを解凍する**"
      ],
      "metadata": {
        "id": "rOBB0chQnkV8"
      }
    },
    {
      "cell_type": "code",
      "source": [
        "#!unzip '/content/drive/MyDrive/images_TMDU.zip'"
      ],
      "metadata": {
        "id": "iTpZafaeH0X0"
      },
      "execution_count": null,
      "outputs": []
    },
    {
      "cell_type": "markdown",
      "source": [
        "**コード18-3 ファイル名のリストを作成**"
      ],
      "metadata": {
        "id": "IQnfvwmunxt-"
      }
    },
    {
      "cell_type": "code",
      "source": [
        "list_healthy = [i for i in os.listdir('/content/images/COVID-NORMAL/healthy') if not i.startswith('.')]\n",
        "list_covid19 = [i for i in os.listdir('/content/images/COVID-NORMAL/covid19') if not i.startswith('.')]"
      ],
      "metadata": {
        "id": "Nm78jBf64PM8"
      },
      "execution_count": null,
      "outputs": []
    },
    {
      "cell_type": "markdown",
      "source": [
        "**コード18-4 リスト内表記の例1**"
      ],
      "metadata": {
        "id": "QzpPG20ToNCO"
      }
    },
    {
      "cell_type": "code",
      "source": [
        "example1 = [i for i in range(5)]\n",
        "print(example1)"
      ],
      "metadata": {
        "id": "ruInPzsZIjh-"
      },
      "execution_count": null,
      "outputs": []
    },
    {
      "cell_type": "markdown",
      "source": [
        "**コード18-5 リスト内表記の例2**"
      ],
      "metadata": {
        "id": "b5pNbU0KoRKC"
      }
    },
    {
      "cell_type": "code",
      "source": [
        "temp = [1,3,5,7,9]\n",
        "example2 = [i*2 for i in temp]\n",
        "print(example2)"
      ],
      "metadata": {
        "id": "ILhKEKwqIoFp"
      },
      "execution_count": null,
      "outputs": []
    },
    {
      "cell_type": "markdown",
      "source": [
        "**コード18-6 リスト内表記の例3**"
      ],
      "metadata": {
        "id": "jtvlImawof4R"
      }
    },
    {
      "cell_type": "code",
      "source": [
        "example3 = [i*2 for i in temp if i > 4]\n",
        "print(example3)"
      ],
      "metadata": {
        "id": "2tztQyDZJM-I"
      },
      "execution_count": null,
      "outputs": []
    },
    {
      "cell_type": "markdown",
      "source": [
        "**コード18-7 リスト内表記の例4**"
      ],
      "metadata": {
        "id": "1iyBcVDGo0C6"
      }
    },
    {
      "cell_type": "code",
      "source": [
        "temp2 = ['須藤', '佐藤', '加藤', '佐川']\n",
        "example4 = [name for name in temp2 if name.startswith('佐')]\n",
        "print(example4)"
      ],
      "metadata": {
        "id": "9XLGziUNJYLW"
      },
      "execution_count": null,
      "outputs": []
    },
    {
      "cell_type": "markdown",
      "source": [
        "**コード18-8 ファイル名リストの要素数確認**"
      ],
      "metadata": {
        "id": "SG9ehwEUomv6"
      }
    },
    {
      "cell_type": "code",
      "source": [
        "print(len(list_healthy))\n",
        "print(len(list_covid19))"
      ],
      "metadata": {
        "id": "lpaDCKGRHNLo"
      },
      "execution_count": null,
      "outputs": []
    },
    {
      "cell_type": "markdown",
      "source": [
        "**コード18-9 画像ファイル数の集計**"
      ],
      "metadata": {
        "id": "hugH9INAvgJX"
      }
    },
    {
      "cell_type": "code",
      "source": [
        "num_healthy = len(list_healthy)\n",
        "num_covid19 = len(list_covid19)\n",
        "num_all = num_healthy + num_covid19\n",
        "print(num_all)"
      ],
      "metadata": {
        "id": "htbjAvpORGZo"
      },
      "execution_count": null,
      "outputs": []
    },
    {
      "cell_type": "markdown",
      "source": [
        "# **STEP1-2 (232,64,64,1)の配列をあらかじめ作成**"
      ],
      "metadata": {
        "id": "M-rkFUUJwqg_"
      }
    },
    {
      "cell_type": "markdown",
      "source": [
        "**コード18-10 画像データ格納用numpy配列の作成**"
      ],
      "metadata": {
        "id": "x-xjxCaEwl_d"
      }
    },
    {
      "cell_type": "code",
      "source": [
        "images_temp = np.zeros((num_all,64,64,1),dtype=float)\n",
        "labels_temp = np.zeros((num_all, 1), dtype=int)\n",
        "print(images_temp.shape)\n",
        "print(labels_temp.shape)"
      ],
      "metadata": {
        "id": "f9uokCk1Rsu2"
      },
      "execution_count": null,
      "outputs": []
    },
    {
      "cell_type": "markdown",
      "source": [
        "**コード18-11 画像データ格納用numy配列の値の確認**"
      ],
      "metadata": {
        "id": "gMl1P5K8z0qe"
      }
    },
    {
      "cell_type": "code",
      "source": [
        "print(labels_temp)"
      ],
      "metadata": {
        "id": "KTAh4Eebt0oa"
      },
      "execution_count": null,
      "outputs": []
    },
    {
      "cell_type": "code",
      "source": [
        "print(images_temp[0])"
      ],
      "metadata": {
        "id": "v4jQfpX5HvvU"
      },
      "execution_count": null,
      "outputs": []
    },
    {
      "cell_type": "markdown",
      "source": [
        "# **STEP1-3 画像ファイルの読み込むと配列への代入**"
      ],
      "metadata": {
        "id": "QHNQo85KItWf"
      }
    },
    {
      "cell_type": "markdown",
      "source": [
        "**コード18-12 画像データの読み込み**"
      ],
      "metadata": {
        "id": "cP_fWbyXIoV6"
      }
    },
    {
      "cell_type": "code",
      "source": [
        "path = '/content/images/COVID-NORMAL'\n",
        "for i in range(num_healthy):\n",
        "  file = f'{path}/healthy/{list_healthy[i]}'\n",
        "  file_img = load_img(file, color_mode='grayscale', target_size = (64,64), interpolation='lanczos')\n",
        "  images_temp[i]=img_to_array(file_img)/255"
      ],
      "metadata": {
        "id": "QYhVQ0SNu20z"
      },
      "execution_count": null,
      "outputs": []
    },
    {
      "cell_type": "markdown",
      "source": [
        "**コード18-13 フォーマット文字リテラルの例**"
      ],
      "metadata": {
        "id": "1p1C82XNI9IZ"
      }
    },
    {
      "cell_type": "code",
      "source": [
        "name = '石丸'\n",
        "print(name)\n",
        "print('name')\n",
        "print(f'{name}')\n",
        "print('私の名前はnameです')\n",
        "print(f'私の名前は{name}です')"
      ],
      "metadata": {
        "id": "qU3SWbxVwUjq"
      },
      "execution_count": null,
      "outputs": []
    },
    {
      "cell_type": "markdown",
      "source": [
        "**コード18-14 images_tempの変換後の値**"
      ],
      "metadata": {
        "id": "gj1yQ50TJKnN"
      }
    },
    {
      "cell_type": "code",
      "source": [
        "images_temp[0]"
      ],
      "metadata": {
        "id": "PpPHnILGyeBV"
      },
      "execution_count": null,
      "outputs": []
    },
    {
      "cell_type": "markdown",
      "source": [
        "**コード18-15 画像の読み込み「list_covid19」**"
      ],
      "metadata": {
        "id": "qWRVb3BZJSa9"
      }
    },
    {
      "cell_type": "code",
      "source": [
        "for i in range(num_covid19):\n",
        "  file = f'{path}/covid19/{list_covid19[i]}'\n",
        "  file_img = load_img(file, color_mode='grayscale', target_size = (64,64), interpolation='lanczos')\n",
        "  images_temp[i + num_healthy] = img_to_array(file_img)/255\n",
        "  labels_temp[i + num_healthy] = 1"
      ],
      "metadata": {
        "id": "SUCt9PBTzRv5"
      },
      "execution_count": null,
      "outputs": []
    },
    {
      "cell_type": "markdown",
      "source": [
        "**コード18-16 images_tempとlabels_tempの変換後の値を確認**"
      ],
      "metadata": {
        "id": "0Aaya-AfJbEX"
      }
    },
    {
      "cell_type": "code",
      "source": [
        "print(images_temp[116])\n",
        "print(labels_temp[116])"
      ],
      "metadata": {
        "id": "e2QnaPWb0N_l"
      },
      "execution_count": null,
      "outputs": []
    },
    {
      "cell_type": "markdown",
      "source": [
        "**コード18-17 0から231までの数字の配列を作成**"
      ],
      "metadata": {
        "id": "Jm3eH0hyJs0U"
      }
    },
    {
      "cell_type": "code",
      "source": [
        "num_list = np.arange(num_all)\n",
        "print(num_list)"
      ],
      "metadata": {
        "id": "0RzsTAnL0t1d"
      },
      "execution_count": null,
      "outputs": []
    },
    {
      "cell_type": "markdown",
      "source": [
        "**コード18-18 numpy配列をシャッフルする**"
      ],
      "metadata": {
        "id": "-faykdCiJzhg"
      }
    },
    {
      "cell_type": "code",
      "source": [
        "np.random.seed(0)\n",
        "np.random.shuffle(num_list)\n",
        "print(num_list)"
      ],
      "metadata": {
        "id": "AzSBsygZ1XpV"
      },
      "execution_count": null,
      "outputs": []
    },
    {
      "cell_type": "markdown",
      "source": [
        "**コード18-19 images_tempとlabels_tempの配列をシャッフルする**"
      ],
      "metadata": {
        "id": "r0FE6HRVJ9AC"
      }
    },
    {
      "cell_type": "code",
      "source": [
        "x_train = images_temp[num_list]\n",
        "y_train = labels_temp[num_list]\n",
        "print(labels_temp[0:10])\n",
        "print(y_train[0:10])\n",
        "print(x_train.shape)\n",
        "print(y_train.shape)"
      ],
      "metadata": {
        "id": "9ZjG18QnHW59"
      },
      "execution_count": null,
      "outputs": []
    },
    {
      "cell_type": "code",
      "source": [
        "y_train"
      ],
      "metadata": {
        "id": "dkoYmL6QeCAm"
      },
      "execution_count": null,
      "outputs": []
    },
    {
      "cell_type": "code",
      "source": [
        "x_train"
      ],
      "metadata": {
        "id": "7bMJqMEAWE4d"
      },
      "execution_count": null,
      "outputs": []
    }
  ]
}