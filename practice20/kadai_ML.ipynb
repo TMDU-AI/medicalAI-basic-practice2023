{
  "nbformat": 4,
  "nbformat_minor": 0,
  "metadata": {
    "colab": {
      "provenance": []
    },
    "kernelspec": {
      "name": "python3",
      "display_name": "Python 3"
    },
    "language_info": {
      "name": "python"
    }
  },
  "cells": [
    {
      "cell_type": "markdown",
      "source": [
        "# **STEP0：事前準備**"
      ],
      "metadata": {
        "id": "0xjh4A-xaKHc"
      }
    },
    {
      "cell_type": "markdown",
      "source": [
        "**コード1 ライブラリのインポート**"
      ],
      "metadata": {
        "id": "lRXFxwCuaZBZ"
      }
    },
    {
      "cell_type": "code",
      "execution_count": null,
      "metadata": {
        "id": "ikrwnPxnk2oE"
      },
      "outputs": [],
      "source": [
        "import pandas as pd\n",
        "import numpy as np\n",
        "import matplotlib.pyplot as plt"
      ]
    },
    {
      "cell_type": "markdown",
      "source": [
        "**コード2 Google Driveのマウント**"
      ],
      "metadata": {
        "id": "6_QVFg8tadjO"
      }
    },
    {
      "cell_type": "code",
      "source": [
        "from google.colab import drive\n",
        "drive.mount('/content/drive', force_remount=True)"
      ],
      "metadata": {
        "id": "uWYewht-mHN4"
      },
      "execution_count": null,
      "outputs": []
    },
    {
      "cell_type": "markdown",
      "source": [
        "# **STEP1：データの準備**"
      ],
      "metadata": {
        "id": "pv4zMmBcaOCu"
      }
    },
    {
      "cell_type": "markdown",
      "source": [
        "**コード3 heart.csvファイルの読み込み**"
      ],
      "metadata": {
        "id": "aQochG8dahiu"
      }
    },
    {
      "cell_type": "code",
      "source": [
        "df = pd.read_csv('/content/drive/MyDrive/heart.csv')"
      ],
      "metadata": {
        "id": "Mr99YXXNlDor"
      },
      "execution_count": null,
      "outputs": []
    },
    {
      "cell_type": "code",
      "source": [
        "df"
      ],
      "metadata": {
        "id": "X_SQMfh7mtx-"
      },
      "execution_count": null,
      "outputs": []
    },
    {
      "cell_type": "markdown",
      "source": [
        "**コード4 y_dataとx_dataの作成**"
      ],
      "metadata": {
        "id": "eY7wj3Xpal7M"
      }
    },
    {
      "cell_type": "code",
      "source": [
        "y_data = df.iloc[:,13]\n",
        "x_data = df.iloc[:, 0:13]"
      ],
      "metadata": {
        "id": "EAg00AImm-30"
      },
      "execution_count": null,
      "outputs": []
    },
    {
      "cell_type": "markdown",
      "source": [
        "**コード5 train_test_split()**"
      ],
      "metadata": {
        "id": "IaZcsilNaWdE"
      }
    },
    {
      "cell_type": "code",
      "source": [
        "#ここにコードを書く"
      ],
      "metadata": {
        "id": "F4SjRp4_n4Gg"
      },
      "execution_count": null,
      "outputs": []
    },
    {
      "cell_type": "markdown",
      "source": [
        "# **STEP2：学習モデルの選択**"
      ],
      "metadata": {
        "id": "xswqjhQ6os00"
      }
    },
    {
      "cell_type": "markdown",
      "source": [
        "**コード6 学習モデルの選択**"
      ],
      "metadata": {
        "id": "6AVMC9CHa2Ab"
      }
    },
    {
      "cell_type": "code",
      "source": [
        "#ここにコードを書く"
      ],
      "metadata": {
        "id": "ppqUlk8joJMA"
      },
      "execution_count": null,
      "outputs": []
    },
    {
      "cell_type": "markdown",
      "source": [
        "# **STEP3：データを入れて学習させる**"
      ],
      "metadata": {
        "id": "GATr0W5ma5aJ"
      }
    },
    {
      "cell_type": "markdown",
      "source": [
        "**コード7 学習データを入れて学習させる**"
      ],
      "metadata": {
        "id": "lHUldoGma-a_"
      }
    },
    {
      "cell_type": "code",
      "source": [
        "#ここにコードを書く"
      ],
      "metadata": {
        "id": "UZUfXc-PojM1"
      },
      "execution_count": null,
      "outputs": []
    },
    {
      "cell_type": "markdown",
      "source": [
        "# **STEP6：モデルの評価**"
      ],
      "metadata": {
        "id": "cCvGW_dBbFVN"
      }
    },
    {
      "cell_type": "markdown",
      "source": [
        "**コード8 モデルの評価**"
      ],
      "metadata": {
        "id": "2JXpEU_9bMVa"
      }
    },
    {
      "cell_type": "code",
      "source": [
        "#ここにコードを書く"
      ],
      "metadata": {
        "id": "qjk7L_-HbLgT"
      },
      "execution_count": null,
      "outputs": []
    }
  ]
}