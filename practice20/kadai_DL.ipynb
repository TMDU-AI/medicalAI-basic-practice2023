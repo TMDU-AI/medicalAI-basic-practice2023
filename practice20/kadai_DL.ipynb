{
  "nbformat": 4,
  "nbformat_minor": 0,
  "metadata": {
    "colab": {
      "provenance": []
    },
    "kernelspec": {
      "name": "python3",
      "display_name": "Python 3"
    },
    "language_info": {
      "name": "python"
    }
  },
  "cells": [
    {
      "cell_type": "markdown",
      "source": [
        "# **STEP0：事前準備**"
      ],
      "metadata": {
        "id": "CgXHMszcevd9"
      }
    },
    {
      "cell_type": "markdown",
      "source": [
        "**コード1 Google Driveにマウントする**"
      ],
      "metadata": {
        "id": "16r0mfoDey6k"
      }
    },
    {
      "cell_type": "code",
      "execution_count": null,
      "metadata": {
        "id": "kOb2c99O2DZQ"
      },
      "outputs": [],
      "source": [
        "from google.colab import drive\n",
        "drive.mount('/content/drive', force_remount=True)"
      ]
    },
    {
      "cell_type": "markdown",
      "source": [
        "**コード2 images_skin_cancer.zipの解凍**"
      ],
      "metadata": {
        "id": "v6K-kPSHe23M"
      }
    },
    {
      "cell_type": "code",
      "source": [
        "!unzip '/content/drive/MyDrive/images_skin_cancer.zip'"
      ],
      "metadata": {
        "id": "lqcWCVoM2JZt"
      },
      "execution_count": null,
      "outputs": []
    },
    {
      "cell_type": "markdown",
      "source": [
        "**コード3 ライブラリ・モジュール・クラスのインポート**"
      ],
      "metadata": {
        "id": "COdQFBDSe86J"
      }
    },
    {
      "cell_type": "code",
      "source": [
        "import numpy as np\n",
        "import matplotlib.pyplot as plt\n",
        "import os\n",
        "from keras.preprocessing.image import load_img, img_to_array\n",
        "from keras.models import Sequential\n",
        "from keras.layers import Dense, Flatten, Dropout\n",
        "from keras.utils import set_random_seed"
      ],
      "metadata": {
        "id": "DK-BEX6Q4eiG"
      },
      "execution_count": null,
      "outputs": []
    },
    {
      "cell_type": "markdown",
      "source": [
        "# **STEP1：データの前処理**"
      ],
      "metadata": {
        "id": "_gIBC_mwfDUo"
      }
    },
    {
      "cell_type": "markdown",
      "source": [
        "**コード4 前処理**"
      ],
      "metadata": {
        "id": "bedZXKfefHZS"
      }
    },
    {
      "cell_type": "code",
      "source": [
        "list_benign = [i for i in os.listdir('/content/images_skin_cancer/train/benign') if not i.startswith('.')]\n",
        "list_malignant = [i for i in os.listdir('/content/images_skin_cancer/train/malignant') if not i.startswith('.')]"
      ],
      "metadata": {
        "id": "P-d2xaVs4pGt"
      },
      "execution_count": null,
      "outputs": []
    },
    {
      "cell_type": "code",
      "source": [
        "num_benign = len(list_benign)\n",
        "num_malignant = len(list_malignant)\n",
        "num_all = num_benign + num_malignant"
      ],
      "metadata": {
        "id": "ekQ7TZ2d4-zA"
      },
      "execution_count": null,
      "outputs": []
    },
    {
      "cell_type": "code",
      "source": [
        "images_temp = np.zeros((num_all,64,64,3), dtype=float)\n",
        "labels_temp = np.zeros((num_all, 1), dtype=int)"
      ],
      "metadata": {
        "id": "T09CzxHU5Nxp"
      },
      "execution_count": null,
      "outputs": []
    },
    {
      "cell_type": "code",
      "source": [
        "path = '/content/images_skin_cancer/train'\n",
        "for i in range(num_benign):\n",
        "  file = f'{path}/benign/{list_benign[i]}'\n",
        "  file_img = load_img(file, color_mode='rgb', target_size = (64,64), interpolation='lanczos')\n",
        "  images_temp[i]=img_to_array(file_img)/255"
      ],
      "metadata": {
        "id": "aUknESil5WUi"
      },
      "execution_count": null,
      "outputs": []
    },
    {
      "cell_type": "code",
      "source": [
        "for i in range(num_malignant):\n",
        "  file = f'{path}/malignant/{list_malignant[i]}'\n",
        "  file_img = load_img(file, color_mode='rgb', target_size = (64,64), interpolation='lanczos')\n",
        "  images_temp[i + num_benign] = img_to_array(file_img)/255\n",
        "  labels_temp[i + num_benign] = 1"
      ],
      "metadata": {
        "id": "PN_f6-pV6SXZ"
      },
      "execution_count": null,
      "outputs": []
    },
    {
      "cell_type": "code",
      "source": [
        "np.random.seed(0)\n",
        "num_list = np.arange(num_all)\n",
        "np.random.shuffle(num_list)"
      ],
      "metadata": {
        "id": "kSSFiq8V6nV6"
      },
      "execution_count": null,
      "outputs": []
    },
    {
      "cell_type": "code",
      "source": [
        "x_train = images_temp[num_list]\n",
        "y_train = labels_temp[num_list]"
      ],
      "metadata": {
        "id": "iRgW1KYI6roc"
      },
      "execution_count": null,
      "outputs": []
    },
    {
      "cell_type": "markdown",
      "source": [
        "# **STEP2：学習モデルの選択**"
      ],
      "metadata": {
        "id": "FsMvPxRGfaWa"
      }
    },
    {
      "cell_type": "markdown",
      "source": [
        "**コード5 ランダムシード値の設定**"
      ],
      "metadata": {
        "id": "r5okBladfd-r"
      }
    },
    {
      "cell_type": "code",
      "source": [
        "set_random_seed(0)"
      ],
      "metadata": {
        "id": "dj_jJtha6vG0"
      },
      "execution_count": null,
      "outputs": []
    },
    {
      "cell_type": "markdown",
      "source": [
        "**コード6 モデルの設計**"
      ],
      "metadata": {
        "id": "oFIDiIYFfl2o"
      }
    },
    {
      "cell_type": "code",
      "source": [],
      "metadata": {
        "id": "4Uo1Gfon6yvY"
      },
      "execution_count": null,
      "outputs": []
    },
    {
      "cell_type": "markdown",
      "source": [
        "# **STEP3：データを入れて学習**"
      ],
      "metadata": {
        "id": "TSPBoP6bfqOE"
      }
    },
    {
      "cell_type": "markdown",
      "source": [
        "**コード7 学習**"
      ],
      "metadata": {
        "id": "dirkK1QXfv2z"
      }
    },
    {
      "cell_type": "code",
      "source": [],
      "metadata": {
        "id": "pB6hCuBO7HJr"
      },
      "execution_count": null,
      "outputs": []
    },
    {
      "cell_type": "markdown",
      "source": [
        "# **STEP4：モデルの評価**"
      ],
      "metadata": {
        "id": "POKABDnUf6SA"
      }
    },
    {
      "cell_type": "markdown",
      "source": [
        "**コード8 正解率・損失の学習過程の図示**"
      ],
      "metadata": {
        "id": "Doo7079Yf9wd"
      }
    },
    {
      "cell_type": "code",
      "source": [],
      "metadata": {
        "id": "XYpvw1547XI4"
      },
      "execution_count": null,
      "outputs": []
    }
  ]
}