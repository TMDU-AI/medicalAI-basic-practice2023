{
  "nbformat": 4,
  "nbformat_minor": 0,
  "metadata": {
    "colab": {
      "provenance": []
    },
    "kernelspec": {
      "name": "python3",
      "display_name": "Python 3"
    },
    "language_info": {
      "name": "python"
    }
  },
  "cells": [
    {
      "cell_type": "markdown",
      "source": [
        "# 演習4コード 12月7日"
      ],
      "metadata": {
        "id": "8h6CLUJu3Wea"
      }
    },
    {
      "cell_type": "markdown",
      "source": [
        "# モジュールを作ります　greetingM.py"
      ],
      "metadata": {
        "id": "AmD0bSpFT60v"
      }
    },
    {
      "cell_type": "code",
      "source": [
        "%%writefile greetingM.py\n",
        "def dec():\n",
        "    return \"Merry Christmas!\"\n",
        "def jan():\n",
        "    return \"Happy New Year!\"\n"
      ],
      "metadata": {
        "id": "nKRXPeZcNfO2"
      },
      "execution_count": null,
      "outputs": []
    },
    {
      "cell_type": "markdown",
      "source": [
        "# モジュールを使います　greetingM.py"
      ],
      "metadata": {
        "id": "GDQi3XG2Vodg"
      }
    },
    {
      "cell_type": "code",
      "source": [
        "#モジュールを保存できたため、インポートします。\n",
        "import greetingM"
      ],
      "metadata": {
        "id": "R5Kgm0nbOqOz"
      },
      "execution_count": null,
      "outputs": []
    },
    {
      "cell_type": "code",
      "source": [
        "#インポートできたモジュールを使用しよう\n",
        "print(greetingM.dec())\n",
        "print(greetingM.jan())"
      ],
      "metadata": {
        "id": "N2G2hUeWrykz"
      },
      "execution_count": null,
      "outputs": []
    },
    {
      "cell_type": "markdown",
      "source": [
        "# パッケージを作ります　giftP.py"
      ],
      "metadata": {
        "id": "Sl9ufxgNV2bH"
      }
    },
    {
      "cell_type": "code",
      "source": [
        "#giftPというパッケージを作りたい\n",
        "!mkdir giftP              #パッケージとして機能させたいディレクトリを作成します\n",
        "!touch giftP/__init__.py  # 初期化ファイル\n",
        "!touch giftP/greetingM.py # モジュール1\n",
        "!touch giftP/presentM.py  # モジュール2\n"
      ],
      "metadata": {
        "id": "r3pxQqUPSC3x"
      },
      "execution_count": null,
      "outputs": []
    },
    {
      "cell_type": "code",
      "source": [
        "#パッケージのモジュールに関数を入れます\n",
        "%%writefile パッケージ名/モジュール1名.py\n",
        "def dec():\n",
        "    return \"Merry Christmas!\"\n",
        "def jan():\n",
        "    return \"Happy New Year!\""
      ],
      "metadata": {
        "id": "ls-zvrerSS_2"
      },
      "execution_count": null,
      "outputs": []
    },
    {
      "cell_type": "code",
      "source": [
        "%%writefile パッケージ名/モジュール2名.py\n",
        "def dec():\n",
        "    return \"a strawberry cake!\"\n",
        "def jan():\n",
        "    return \"otoshidama!\""
      ],
      "metadata": {
        "id": "xop-kF5n9mTE"
      },
      "execution_count": null,
      "outputs": []
    },
    {
      "cell_type": "markdown",
      "source": [
        "## パッケージを使います　giftP"
      ],
      "metadata": {
        "id": "gzmF9iCYXSd0"
      }
    },
    {
      "cell_type": "code",
      "source": [
        "from giftP import greetingM"
      ],
      "metadata": {
        "id": "BljTnfNT_jST"
      },
      "execution_count": null,
      "outputs": []
    },
    {
      "cell_type": "code",
      "source": [
        "print(greetingM.dec())\n",
        "print(greetingM.jan())"
      ],
      "metadata": {
        "id": "V4Qspl-PHiYZ"
      },
      "execution_count": null,
      "outputs": []
    },
    {
      "cell_type": "code",
      "source": [
        "from giftP import presentM"
      ],
      "metadata": {
        "id": "9hmzQQM-3WAV"
      },
      "execution_count": null,
      "outputs": []
    },
    {
      "cell_type": "code",
      "source": [
        "print(presentM.dec())\n",
        "print(presentM.jan())"
      ],
      "metadata": {
        "id": "0r8T5D3MXs-S"
      },
      "execution_count": null,
      "outputs": []
    },
    {
      "cell_type": "markdown",
      "source": [
        "# 既に存在しているモジュールを使います"
      ],
      "metadata": {
        "id": "7CU0kZHdXzjn"
      }
    },
    {
      "cell_type": "code",
      "execution_count": null,
      "metadata": {
        "id": "04HiLlmVprY7"
      },
      "outputs": [],
      "source": [
        "#mathモジュールをインポートする\n",
        "import math"
      ]
    },
    {
      "cell_type": "code",
      "source": [
        "#円周率を取得\n",
        "print(math.pi)"
      ],
      "metadata": {
        "id": "_HdYAkDf31YZ"
      },
      "execution_count": null,
      "outputs": []
    },
    {
      "cell_type": "code",
      "source": [
        "#自然対数の底を取得\n",
        "print(math.e)"
      ],
      "metadata": {
        "id": "8dYxiC7tYWRR"
      },
      "execution_count": null,
      "outputs": []
    },
    {
      "cell_type": "code",
      "source": [
        "#平方根を計算\n",
        "math.sqrt(引数)"
      ],
      "metadata": {
        "id": "qNxR4BB3CgcL"
      },
      "execution_count": null,
      "outputs": []
    },
    {
      "cell_type": "code",
      "source": [
        "#対数を計算\n",
        "x = 1000.0\n",
        "base = 10.0\n",
        "\n",
        "math.log(x,base)"
      ],
      "metadata": {
        "id": "cG2IzymRlsZO"
      },
      "execution_count": null,
      "outputs": []
    },
    {
      "cell_type": "markdown",
      "source": [
        "# ライブラリnumpyを使ってみましょう"
      ],
      "metadata": {
        "id": "q6JpvsXhZJw3"
      }
    },
    {
      "cell_type": "markdown",
      "source": [
        "コード01:numpyライブラリをインポートします。"
      ],
      "metadata": {
        "id": "3QJsSzlv4hud"
      }
    },
    {
      "cell_type": "code",
      "source": [
        "import numpy as np"
      ],
      "metadata": {
        "id": "AZpqSzH5pPQs"
      },
      "execution_count": 2,
      "outputs": []
    },
    {
      "cell_type": "markdown",
      "source": [
        "コード02:一次元配列を作成します。"
      ],
      "metadata": {
        "id": "GH0d7ErF4oNI"
      }
    },
    {
      "cell_type": "code",
      "source": [
        "#配列を作成：リストから配列を作成\n",
        "list1 = [1,2,3,4,5]\n",
        "\n",
        "print(list1)\n",
        "print(np.array([1,2,3,4,5]))"
      ],
      "metadata": {
        "id": "cMnseh5KpQ8c"
      },
      "execution_count": null,
      "outputs": []
    },
    {
      "cell_type": "markdown",
      "source": [
        "コード03:二次元配列を作成します。"
      ],
      "metadata": {
        "id": "tnBf_-PG4zhJ"
      }
    },
    {
      "cell_type": "code",
      "source": [
        "#二次元配列を作成list\n",
        "list2 = [[1,2,3], [4,5,6,], [7,8,9],[10,11,12]]\n",
        "\n",
        "print(list2)\n",
        "print(np.array([[1,2,3], [4,5,6,], [7,8,9],[10,11,12]]))"
      ],
      "metadata": {
        "id": "6h6GFeqlpYv9"
      },
      "execution_count": null,
      "outputs": []
    },
    {
      "cell_type": "markdown",
      "source": [
        "コード04:配列の形状、総要素数、次元数を求めます"
      ],
      "metadata": {
        "id": "Kvox81y66yip"
      }
    },
    {
      "cell_type": "code",
      "source": [
        "arr1 = np.array([1,2,3,4,5])\n",
        "\n",
        "print(arr1)\n",
        "print(arr1.shape)   # 形状を表示\n",
        "print(arr1.size)   # 総要素数を表示\n",
        "print(arr1.ndim)   # 次元数を表示"
      ],
      "metadata": {
        "id": "CwxrYg-hTxrL"
      },
      "execution_count": null,
      "outputs": []
    },
    {
      "cell_type": "code",
      "source": [
        "arr2 = np.array([[1, 2, 3], [4, 5, 6]])\n",
        "\n",
        "print(arr2)\n",
        "print(arr2.shape)   # 形状を表示\n",
        "print(arr2.size)   # 総要素数を表示\n",
        "print(arr2.ndim)   # 次元数を表示\n"
      ],
      "metadata": {
        "id": "bo4S2utO3wB0"
      },
      "execution_count": null,
      "outputs": []
    },
    {
      "cell_type": "markdown",
      "source": [
        "コード05:配列の形状を変換します。"
      ],
      "metadata": {
        "id": "wP4mgzzQ8MbH"
      }
    },
    {
      "cell_type": "code",
      "source": [
        "arr2 = np.array([1, 2, 3, 4, 5, 6, 7, 8, 9])\n",
        "\n",
        "print(arr2)\n",
        "\n",
        "print(arr2.reshape(3, 3))\n"
      ],
      "metadata": {
        "id": "9oPBCqw1waOf"
      },
      "execution_count": null,
      "outputs": []
    },
    {
      "cell_type": "code",
      "source": [
        "arr3 = np.array([[1, 2], [3, 4], [5, 6], [7, 8]])\n",
        "\n",
        "print(arr3)\n",
        "\n",
        "print(arr3.reshape(-1))"
      ],
      "metadata": {
        "id": "9_oTBgwqXx3M"
      },
      "execution_count": null,
      "outputs": []
    },
    {
      "cell_type": "markdown",
      "source": [
        "コード06:配列の計算をします。"
      ],
      "metadata": {
        "id": "NnPwAK4uTHkG"
      }
    },
    {
      "cell_type": "code",
      "source": [
        "arr3 = np.array([[1, 2], [3, 4], [5, 6], [7, 8]])\n",
        "print(arr3.sum())"
      ],
      "metadata": {
        "id": "0peVZgqz506_"
      },
      "execution_count": null,
      "outputs": []
    },
    {
      "cell_type": "code",
      "source": [
        "arr3 = np.array([[1, 2], [3, 4], [5, 6], [7, 8]])\n",
        "print(arr3.mean())"
      ],
      "metadata": {
        "id": "5ESl6eNO565S"
      },
      "execution_count": null,
      "outputs": []
    }
  ]
}