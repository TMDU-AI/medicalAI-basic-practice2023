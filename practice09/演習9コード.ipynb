{
  "nbformat": 4,
  "nbformat_minor": 0,
  "metadata": {
    "colab": {
      "provenance": []
    },
    "kernelspec": {
      "name": "python3",
      "display_name": "Python 3"
    },
    "language_info": {
      "name": "python"
    }
  },
  "cells": [
    {
      "cell_type": "markdown",
      "source": [
        "# **STEP0 事前準備**"
      ],
      "metadata": {
        "id": "86cyjb45ccDx"
      }
    },
    {
      "cell_type": "markdown",
      "source": [
        "**コード9-1**"
      ],
      "metadata": {
        "id": "od3mJ08GQBGG"
      }
    },
    {
      "cell_type": "code",
      "source": [
        "import numpy as np\n",
        "import pandas as pd\n",
        "import matplotlib.pyplot as plt"
      ],
      "metadata": {
        "id": "QWn_yDE_RteE"
      },
      "execution_count": null,
      "outputs": []
    },
    {
      "cell_type": "markdown",
      "source": [
        "# **STEP1 データの用意**"
      ],
      "metadata": {
        "id": "ULOmrYNNckbv"
      }
    },
    {
      "cell_type": "markdown",
      "source": [
        "**コード9-2**"
      ],
      "metadata": {
        "id": "p9yex4dfQHBR"
      }
    },
    {
      "cell_type": "code",
      "source": [
        "from sklearn.datasets import load_diabetes\n",
        "dm = load_diabetes(as_frame=True, scaled=False)\n",
        "\n",
        "y_dm = dm.target\n",
        "x_dm = dm.data\n",
        "x_bmi=x_dm[['bmi']]"
      ],
      "metadata": {
        "id": "v16-LAlmRwvb"
      },
      "execution_count": null,
      "outputs": []
    },
    {
      "cell_type": "markdown",
      "source": [
        "# **STEP2 学習モデルの選択**"
      ],
      "metadata": {
        "id": "omrwTeFPQqEp"
      }
    },
    {
      "cell_type": "markdown",
      "source": [
        "**コード9-3 線形回帰を学習モデルに選択**"
      ],
      "metadata": {
        "id": "QqnBIpZ9c_Cq"
      }
    },
    {
      "cell_type": "code",
      "source": [
        "from sklearn.linear_model import LinearRegression\n",
        "model_bmi = LinearRegression()"
      ],
      "metadata": {
        "id": "w61zleiZSHnk"
      },
      "execution_count": null,
      "outputs": []
    },
    {
      "cell_type": "markdown",
      "source": [
        "# **STEP3 データを入れて学習させる**"
      ],
      "metadata": {
        "id": "pjy1HiwGdTSi"
      }
    },
    {
      "cell_type": "markdown",
      "source": [
        "**コード9-4 データを入れて学習させる**"
      ],
      "metadata": {
        "id": "X6HaE6B9Q9ns"
      }
    },
    {
      "cell_type": "code",
      "source": [
        "model_bmi.fit(x_bmi, y_dm)"
      ],
      "metadata": {
        "id": "69s_MM3aQv_g"
      },
      "execution_count": null,
      "outputs": []
    },
    {
      "cell_type": "markdown",
      "source": [
        "# **STEP4 傾きと切片を求める**"
      ],
      "metadata": {
        "id": "UW6DUQSPRBYH"
      }
    },
    {
      "cell_type": "markdown",
      "source": [
        "**コード9-5 学習済みモデルの傾きと切片を求める**"
      ],
      "metadata": {
        "id": "aQ9-nV-Gdymh"
      }
    },
    {
      "cell_type": "code",
      "source": [
        "print(model_bmi.coef_)\n",
        "print(model_bmi.intercept_)"
      ],
      "metadata": {
        "id": "a0pSDp78Q0fT"
      },
      "execution_count": null,
      "outputs": []
    },
    {
      "cell_type": "markdown",
      "source": [
        "# **STEP5 正解値の予測**"
      ],
      "metadata": {
        "id": "8q9ZMN5veNFo"
      }
    },
    {
      "cell_type": "markdown",
      "source": [
        "**コード9-6 新しいxの値データの作成**"
      ],
      "metadata": {
        "id": "axpNhaTweM5s"
      }
    },
    {
      "cell_type": "code",
      "source": [
        "pre = pd.DataFrame([[20]], columns=['bmi'])"
      ],
      "metadata": {
        "id": "PTYShpymScME"
      },
      "execution_count": null,
      "outputs": []
    },
    {
      "cell_type": "markdown",
      "source": [
        "**コード9-7 作成したpreのデータを確認**"
      ],
      "metadata": {
        "id": "VFah5mZQe4M2"
      }
    },
    {
      "cell_type": "code",
      "source": [
        "pre"
      ],
      "metadata": {
        "id": "6Yb3sHCdfGmO"
      },
      "execution_count": null,
      "outputs": []
    },
    {
      "cell_type": "code",
      "source": [
        "pre.shape"
      ],
      "metadata": {
        "id": "1CzeJjxYEPsN"
      },
      "execution_count": null,
      "outputs": []
    },
    {
      "cell_type": "code",
      "source": [
        "type(pre)"
      ],
      "metadata": {
        "id": "uN9dQRzaHRQy"
      },
      "execution_count": null,
      "outputs": []
    },
    {
      "cell_type": "markdown",
      "source": [
        "**コード9-8 新しいxの値(pre)で正解値の予測**"
      ],
      "metadata": {
        "id": "3NcxmyfnfIoA"
      }
    },
    {
      "cell_type": "code",
      "source": [
        "print(model_bmi.predict(pre))"
      ],
      "metadata": {
        "id": "SZN1jE-xENOH"
      },
      "execution_count": null,
      "outputs": []
    },
    {
      "cell_type": "markdown",
      "source": [
        "**コード9-9 散布図と回帰線を描出**"
      ],
      "metadata": {
        "id": "LagCJZcFgELY"
      }
    },
    {
      "cell_type": "code",
      "source": [
        "plt.scatter(x_bmi, y_dm, color='black')\n",
        "plt.plot(x_bmi, model_bmi.predict(x_bmi))"
      ],
      "metadata": {
        "id": "LDYIPEjzSm70"
      },
      "execution_count": null,
      "outputs": []
    },
    {
      "cell_type": "markdown",
      "source": [
        "# **STEP6 モデルの予測性能評価**"
      ],
      "metadata": {
        "id": "1Ha63a_zhID3"
      }
    },
    {
      "cell_type": "markdown",
      "source": [
        "**コード9-10 モデルがどれぐらい予測できているかを調べる**"
      ],
      "metadata": {
        "id": "EX8_nj_ShH35"
      }
    },
    {
      "cell_type": "code",
      "source": [
        "print(model_bmi.score(x_bmi, y_dm))"
      ],
      "metadata": {
        "id": "sn9k31PaW1E_"
      },
      "execution_count": null,
      "outputs": []
    },
    {
      "cell_type": "markdown",
      "source": [
        "# **10個の特徴量で線形回帰を行う**"
      ],
      "metadata": {
        "id": "NxuiTh4Piy3D"
      }
    },
    {
      "cell_type": "markdown",
      "source": [
        "**コード9-11 新しくmodel_dm10インスタンスを作成し、10個の特徴量(x_dm)でy_dmを予測する**"
      ],
      "metadata": {
        "id": "9F6TXETAhv4d"
      }
    },
    {
      "cell_type": "code",
      "source": [
        "#STEP2から\n",
        "model_dm10 = LinearRegression()\n",
        "#STEP3\n",
        "model_dm10.fit(x_dm, y_dm)"
      ],
      "metadata": {
        "id": "8YcZifHzi7_c"
      },
      "execution_count": null,
      "outputs": []
    },
    {
      "cell_type": "markdown",
      "source": [
        "**コード9-12 model_dm10の傾きと切片を求める**"
      ],
      "metadata": {
        "id": "IfHWCwnPYjgt"
      }
    },
    {
      "cell_type": "code",
      "source": [
        "#STEP4\n",
        "print(model_dm10.coef_)\n",
        "print(model_dm10.intercept_)"
      ],
      "metadata": {
        "id": "TDqFWkrQjO7_"
      },
      "execution_count": null,
      "outputs": []
    },
    {
      "cell_type": "markdown",
      "source": [
        "**コード9-13 複数の特徴量を入れたモデルの評価を行う**"
      ],
      "metadata": {
        "id": "GTsPQLufko1P"
      }
    },
    {
      "cell_type": "code",
      "source": [
        "#STEP5を飛ばしてSTEP6\n",
        "print(model_dm10.score(x_dm, y_dm))"
      ],
      "metadata": {
        "id": "t4RYEOOJjcNB"
      },
      "execution_count": null,
      "outputs": []
    }
  ]
}