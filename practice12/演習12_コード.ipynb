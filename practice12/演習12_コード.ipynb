{
  "nbformat": 4,
  "nbformat_minor": 0,
  "metadata": {
    "colab": {
      "provenance": []
    },
    "kernelspec": {
      "name": "python3",
      "display_name": "Python 3"
    },
    "language_info": {
      "name": "python"
    }
  },
  "cells": [
    {
      "cell_type": "markdown",
      "source": [
        "# **STEP0 事前準備**"
      ],
      "metadata": {
        "id": "FobSYiu_W-cT"
      }
    },
    {
      "cell_type": "markdown",
      "source": [
        "**コード12-1 ライブラリのインポート**"
      ],
      "metadata": {
        "id": "oTFgE1AnW-RX"
      }
    },
    {
      "cell_type": "code",
      "execution_count": 18,
      "metadata": {
        "id": "OdOc9KAytzIG"
      },
      "outputs": [],
      "source": [
        "import numpy as np\n",
        "import pandas as pd"
      ]
    },
    {
      "cell_type": "markdown",
      "source": [
        "# **STEP1 データの用意**"
      ],
      "metadata": {
        "id": "Ukb0CP40YWpW"
      }
    },
    {
      "cell_type": "markdown",
      "source": [
        "**コード12-2 乳がんデータセットを読み込む**"
      ],
      "metadata": {
        "id": "NLVFbmawXb_0"
      }
    },
    {
      "cell_type": "code",
      "source": [
        "from sklearn.datasets import load_breast_cancer\n",
        "bc = load_breast_cancer(as_frame=True)"
      ],
      "metadata": {
        "id": "mVC6QVGa3pB7"
      },
      "execution_count": null,
      "outputs": []
    },
    {
      "cell_type": "markdown",
      "source": [
        "**コード12-3 学習データと検証データに分割**"
      ],
      "metadata": {
        "id": "PTgDWA3GXgnb"
      }
    },
    {
      "cell_type": "code",
      "source": [
        "from sklearn.model_selection import train_test_split\n",
        "x_train, x_test, y_train, y_test = train_test_split(bc.data,\n",
        "                                                   bc.target,\n",
        "                                                   test_size=0.3,\n",
        "                                                   random_state=0)"
      ],
      "metadata": {
        "id": "sLDiLA2R30Ir"
      },
      "execution_count": null,
      "outputs": []
    },
    {
      "cell_type": "markdown",
      "source": [
        "# **STEP2 学習モデルの選択**"
      ],
      "metadata": {
        "id": "JCWfLD-uYSPi"
      }
    },
    {
      "cell_type": "markdown",
      "source": [
        "**コード12-4 学習モデルにSVCを選択**"
      ],
      "metadata": {
        "id": "XaWm_8xPYOXG"
      }
    },
    {
      "cell_type": "code",
      "source": [
        "from sklearn.svm import SVC\n",
        "model_svm =SVC(kernel ='rbf', C=1)"
      ],
      "metadata": {
        "id": "MH8UlDmy4KRG"
      },
      "execution_count": null,
      "outputs": []
    },
    {
      "cell_type": "markdown",
      "source": [
        "# **STEP3 データを入れて学習**"
      ],
      "metadata": {
        "id": "QO3aJXyIYeDU"
      }
    },
    {
      "cell_type": "markdown",
      "source": [
        "**コード12-5 学習データで学習**"
      ],
      "metadata": {
        "id": "8ZOnG279YimO"
      }
    },
    {
      "cell_type": "code",
      "source": [
        "model_svm.fit(x_train, y_train)"
      ],
      "metadata": {
        "id": "6dSPviBKYr6Z"
      },
      "execution_count": null,
      "outputs": []
    },
    {
      "cell_type": "markdown",
      "source": [
        "# **STEP4 予測を行う**"
      ],
      "metadata": {
        "id": "8GNik4fnZXXM"
      }
    },
    {
      "cell_type": "markdown",
      "source": [
        "**コード12-6 検証用データで予測を行う**"
      ],
      "metadata": {
        "id": "-Yj8v_bGZgsE"
      }
    },
    {
      "cell_type": "code",
      "source": [
        "print(model_svm.predict(x_test))"
      ],
      "metadata": {
        "id": "oLGJ6QOUZcHY"
      },
      "execution_count": null,
      "outputs": []
    },
    {
      "cell_type": "code",
      "source": [
        "print(np.array(y_test))"
      ],
      "metadata": {
        "id": "Eu13AXjjZj7Y"
      },
      "execution_count": null,
      "outputs": []
    },
    {
      "cell_type": "markdown",
      "source": [
        "**コード12-7 混同行列**"
      ],
      "metadata": {
        "id": "PA0GKfaqymka"
      }
    },
    {
      "cell_type": "code",
      "source": [
        "from sklearn.metrics import confusion_matrix, ConfusionMatrixDisplay\n",
        "confusion_matrix(y_test, model_svm.predict(x_test), labels = [1,0])"
      ],
      "metadata": {
        "id": "_r7TobZYyqBB"
      },
      "execution_count": null,
      "outputs": []
    },
    {
      "cell_type": "markdown",
      "source": [
        "# **STEP5 モデルの評価**"
      ],
      "metadata": {
        "id": "X2Dgj3eKaAfp"
      }
    },
    {
      "cell_type": "markdown",
      "source": [
        "**コード12-8 検証用データで正解率を算出**"
      ],
      "metadata": {
        "id": "vTygzxBqaD9x"
      }
    },
    {
      "cell_type": "code",
      "source": [
        "print(model_svm.score(x_test, y_test))"
      ],
      "metadata": {
        "id": "zsjWIpEl4UnZ"
      },
      "execution_count": null,
      "outputs": []
    },
    {
      "cell_type": "markdown",
      "source": [
        "**コード12-9 検証用データで適合率、再現率、F1値を算出**"
      ],
      "metadata": {
        "id": "u8iAY1fNQHXn"
      }
    },
    {
      "cell_type": "code",
      "source": [
        "from sklearn.metrics import classification_report\n",
        "pd.DataFrame(classification_report(y_test, model_svm.predict(x_test), output_dict= True))"
      ],
      "metadata": {
        "id": "GHIY7K6rCJQD"
      },
      "execution_count": null,
      "outputs": []
    }
  ]
}