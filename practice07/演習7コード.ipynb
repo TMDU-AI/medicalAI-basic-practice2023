{
  "nbformat": 4,
  "nbformat_minor": 0,
  "metadata": {
    "colab": {
      "provenance": []
    },
    "kernelspec": {
      "name": "python3",
      "display_name": "Python 3"
    },
    "language_info": {
      "name": "python"
    }
  },
  "cells": [
    {
      "cell_type": "markdown",
      "source": [
        "## 12月21日演習7コード"
      ],
      "metadata": {
        "id": "2tN1zDJ5z39E"
      }
    },
    {
      "cell_type": "markdown",
      "source": [
        "コード01:Pandasをインポートします。"
      ],
      "metadata": {
        "id": "FEOw_80MXC7Q"
      }
    },
    {
      "cell_type": "code",
      "source": [
        "import pandas as pd"
      ],
      "metadata": {
        "id": "eit5UEuuwqwm"
      },
      "execution_count": 1,
      "outputs": []
    },
    {
      "cell_type": "markdown",
      "source": [
        "コード02:Google Driveをマウントします。"
      ],
      "metadata": {
        "id": "g9mNSH5D_fln"
      }
    },
    {
      "cell_type": "code",
      "source": [
        "from google.colab import drive\n",
        "drive.mount('/content/drive')"
      ],
      "metadata": {
        "id": "Am8SZJhjIUbs"
      },
      "execution_count": null,
      "outputs": []
    },
    {
      "cell_type": "markdown",
      "source": [
        "コード03:CSVファイルを読み込みます。"
      ],
      "metadata": {
        "id": "bUpBbYpW_noS"
      }
    },
    {
      "cell_type": "code",
      "execution_count": null,
      "metadata": {
        "id": "G_Dp0-ap9wyo"
      },
      "outputs": [],
      "source": [
        "import pandas as pd\n",
        "Klist = pd.read_csv(\"/content/drive/My Drive/dwhdata1221.csv\", encoding=\"utf-8\")\n",
        "print(Klist)"
      ]
    },
    {
      "cell_type": "markdown",
      "source": [
        "コード04:歯の本数を数えます。"
      ],
      "metadata": {
        "id": "1-PNVfEDQJV_"
      }
    },
    {
      "cell_type": "code",
      "source": [
        "Klist[\"tooth exist\"] = None   #\"tooth exist\"列を追加します\n",
        "print(Klist)"
      ],
      "metadata": {
        "id": "2hHbeiK4FFog"
      },
      "execution_count": null,
      "outputs": []
    },
    {
      "cell_type": "code",
      "source": [
        "for i in range(len(Klist)):                         #len(Klist)はデータフレームの行を数える関数です\n",
        "    if Klist[\"tooth record\"][i] == \"喪失歯\":        #Klist[\"tooth record\"][i]は列の中のデータ一つを示します。\n",
        "        Klist[\"tooth exist\"][i] = 0                 #Klist[\"tooth exist\"][i]は列の中のデータ一つを示します。\n",
        "    else:\n",
        "        Klist[\"tooth exist\"][i] = 1                 #Klist[\"tooth exist\"][i]は列の中のデータ一つを示します。"
      ],
      "metadata": {
        "id": "U1KqgNbI6seS"
      },
      "execution_count": 5,
      "outputs": []
    },
    {
      "cell_type": "code",
      "source": [
        "print(Klist)                                        #tooth exist列にデータを代入しました"
      ],
      "metadata": {
        "id": "aT63GUfn7Uxo"
      },
      "execution_count": null,
      "outputs": []
    },
    {
      "cell_type": "code",
      "source": [
        "print(Klist.groupby(\"id\")[\"tooth exist\"].sum())         #groupbyを使って本数を数えます。"
      ],
      "metadata": {
        "id": "TKzO4HKuGP7Q"
      },
      "execution_count": null,
      "outputs": []
    },
    {
      "cell_type": "markdown",
      "source": [
        "### **コード05: 初診時の年齢を算出します。**"
      ],
      "metadata": {
        "id": "rspnK5wZOtqt"
      }
    },
    {
      "cell_type": "code",
      "source": [
        "#インデックス番号0の行の日付を変換してみましょう。\n",
        "print(int(Klist[\"birthmonth\"][0].split(\"-\")[0]))\n",
        "print(int(Klist[\"birthmonth\"][0].split(\"-\")[1]))\n",
        "print(int(Klist[\"yearmonth\"][0].split(\"-\")[0]))\n",
        "print(int(Klist[\"yearmonth\"][0].split(\"-\")[1]))"
      ],
      "metadata": {
        "id": "PFY9dMLhvhpZ"
      },
      "execution_count": null,
      "outputs": []
    },
    {
      "cell_type": "code",
      "source": [
        "#インデックス番号53023の行の日付を変換してみましょう。\n",
        "print(int(Klist[\"birthmonth\"][53023].split(\"-\")[0]))\n",
        "print(int(Klist[\"birthmonth\"][53023].split(\"-\")[1]))\n",
        "print(int(Klist[\"yearmonth\"][53023].split(\"-\")[0]))\n",
        "print(int(Klist[\"yearmonth\"][53023].split(\"-\")[1]))"
      ],
      "metadata": {
        "id": "qstB30jFNdDO"
      },
      "execution_count": null,
      "outputs": []
    },
    {
      "cell_type": "code",
      "source": [
        "#インデックス番号0の行の患者の年齢を計算しましょう。\n",
        "birthyear = int(Klist[\"birthmonth\"][0].split(\"-\")[0])               #生まれた年の変数\n",
        "birthmonth = int(Klist[\"birthmonth\"][0].split(\"-\")[1])              #生まれた月の変数\n",
        "visityear = int(Klist[\"yearmonth\"][0].split(\"-\")[0])                #初診日の年の変数\n",
        "visitmonth = int(Klist[\"yearmonth\"][0].split(\"-\")[1])               #初診日の月の変数\n",
        "\n",
        "if visitmonth >= birthmonth:\n",
        "    age = visityear - birthyear                                     #ageは初診時の患者年齢の変数\n",
        "else:\n",
        "    age = visityear - birthyear -1\n",
        "print(age)"
      ],
      "metadata": {
        "id": "al70IBZ-4PEC"
      },
      "execution_count": null,
      "outputs": []
    },
    {
      "cell_type": "markdown",
      "source": [
        "新しい列「age」を追加します。"
      ],
      "metadata": {
        "id": "povaolepNuaJ"
      }
    },
    {
      "cell_type": "code",
      "source": [
        "Klist[\"age\"] = None\n",
        "print(Klist)"
      ],
      "metadata": {
        "id": "SjNOVboEN3zP"
      },
      "execution_count": null,
      "outputs": []
    },
    {
      "cell_type": "code",
      "source": [
        "#for文を使って全ての行の年齢を計算しましょう。\n",
        "for i in range(len(Klist)):\n",
        "  birthmonth = int(Klist[\"birthmonth\"][i].split(\"-\")[1])              #生まれた月\n",
        "  birthyear = int(Klist[\"birthmonth\"][i].split(\"-\")[0])               #生まれた年\n",
        "  visitmonth = int(Klist[\"yearmonth\"][i].split(\"-\")[1])               #初診日の月\n",
        "  visityear = int(Klist[\"yearmonth\"][i].split(\"-\")[0])                #初診日の年\n",
        "  if visitmonth >= birthmonth:\n",
        "    age = visityear - birthyear\n",
        "  else:\n",
        "    age = visityear - birthyear-1\n",
        "  Klist[\"age\"][i]=age                                                 #ageの変数に値を代入します。"
      ],
      "metadata": {
        "id": "SQlfkiX91ZN8"
      },
      "execution_count": 14,
      "outputs": []
    },
    {
      "cell_type": "code",
      "source": [
        "print(Klist)"
      ],
      "metadata": {
        "id": "ym18TIO92TC5"
      },
      "execution_count": null,
      "outputs": []
    },
    {
      "cell_type": "markdown",
      "source": [
        "## **コード06：散布図を作ります**"
      ],
      "metadata": {
        "id": "GgOEe-1509B2"
      }
    },
    {
      "cell_type": "markdown",
      "source": [
        "散布図:X軸"
      ],
      "metadata": {
        "id": "m4amMv7x1Ho0"
      }
    },
    {
      "cell_type": "code",
      "source": [
        "x = Klist.groupby(\"id\")[\"age\"].mean()\n",
        "print(x)"
      ],
      "metadata": {
        "id": "wjtAnPkzj5qv"
      },
      "execution_count": null,
      "outputs": []
    },
    {
      "cell_type": "markdown",
      "source": [
        "散布図:y軸"
      ],
      "metadata": {
        "id": "gKzCRFeB1wkC"
      }
    },
    {
      "cell_type": "code",
      "source": [
        "y = Klist.groupby(\"id\")[\"tooth exist\"].sum()\n",
        "print(y)"
      ],
      "metadata": {
        "id": "LIc2QGWxXydU"
      },
      "execution_count": null,
      "outputs": []
    },
    {
      "cell_type": "markdown",
      "source": [
        "散布図：X、Y軸をnumpy配列にします"
      ],
      "metadata": {
        "id": "PTUB68oi4HZo"
      }
    },
    {
      "cell_type": "code",
      "source": [
        "import numpy as np"
      ],
      "metadata": {
        "id": "9ax7VUFSB_fS"
      },
      "execution_count": 18,
      "outputs": []
    },
    {
      "cell_type": "code",
      "source": [
        "x = np.array(x)\n",
        "y = np.array(y)"
      ],
      "metadata": {
        "id": "orsPDpIWg9x4"
      },
      "execution_count": 19,
      "outputs": []
    },
    {
      "cell_type": "markdown",
      "source": [
        "散布図：matplotlibと日本語入力方法をインポートします"
      ],
      "metadata": {
        "id": "JUSaYIXc4MTu"
      }
    },
    {
      "cell_type": "code",
      "source": [
        "import matplotlib.pyplot as plt\n",
        "!pip install japanize-matplotlib\n",
        "import japanize_matplotlib"
      ],
      "metadata": {
        "id": "AeIqf3TJCBba"
      },
      "execution_count": null,
      "outputs": []
    },
    {
      "cell_type": "markdown",
      "source": [
        "散布図：散布図を作成します"
      ],
      "metadata": {
        "id": "aaP5aEs8SVPI"
      }
    },
    {
      "cell_type": "code",
      "source": [
        "#散布図を作成します\n",
        "plt.figure()\n",
        "plt.title('散布図：年齢と歯の本数')\n",
        "plt.xlabel('年齢')\n",
        "plt.ylabel('歯の本数')\n",
        "plt.grid()\n",
        "plt.scatter(x,y)\n",
        "plt.show()"
      ],
      "metadata": {
        "id": "59ZkwFWVhSIw"
      },
      "execution_count": null,
      "outputs": []
    }
  ]
}