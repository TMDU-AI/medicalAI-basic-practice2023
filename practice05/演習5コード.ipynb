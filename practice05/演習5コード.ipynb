{
  "nbformat": 4,
  "nbformat_minor": 0,
  "metadata": {
    "colab": {
      "provenance": []
    },
    "kernelspec": {
      "name": "python3",
      "display_name": "Python 3"
    },
    "language_info": {
      "name": "python"
    }
  },
  "cells": [
    {
      "cell_type": "markdown",
      "source": [
        "# 演習5コード 12月7日"
      ],
      "metadata": {
        "id": "bb1wUTjs9ocQ"
      }
    },
    {
      "cell_type": "markdown",
      "source": [
        "コード01:Pandasをインポートします。"
      ],
      "metadata": {
        "id": "kGffw3IO_X53"
      }
    },
    {
      "cell_type": "code",
      "source": [
        "import pandas as pd"
      ],
      "metadata": {
        "id": "eit5UEuuwqwm"
      },
      "execution_count": null,
      "outputs": []
    },
    {
      "cell_type": "markdown",
      "source": [
        "コード02:Google Driveをマウントします。"
      ],
      "metadata": {
        "id": "g9mNSH5D_fln"
      }
    },
    {
      "cell_type": "code",
      "source": [
        "from google.colab import drive\n",
        "drive.mount('/content/drive')"
      ],
      "metadata": {
        "id": "Am8SZJhjIUbs"
      },
      "execution_count": null,
      "outputs": []
    },
    {
      "cell_type": "markdown",
      "source": [
        "コード03:CSVファイルを読み込みます。"
      ],
      "metadata": {
        "id": "bUpBbYpW_noS"
      }
    },
    {
      "cell_type": "code",
      "execution_count": null,
      "metadata": {
        "id": "G_Dp0-ap9wyo"
      },
      "outputs": [],
      "source": [
        "import pandas as pd\n",
        "Klist = pd.read_csv(\"/content/drive/My Drive/dwhdata.csv\", encoding=\"utf-8\")\n",
        "print(Klist)"
      ]
    },
    {
      "cell_type": "markdown",
      "source": [
        "コード04:\n",
        "データフレームKlistの形状を知りたいです"
      ],
      "metadata": {
        "id": "S-Suu2X0_uJk"
      }
    },
    {
      "cell_type": "code",
      "source": [
        "print(Klist.shape)"
      ],
      "metadata": {
        "id": "Ph1NEV4XXd20"
      },
      "execution_count": null,
      "outputs": []
    },
    {
      "cell_type": "markdown",
      "source": [
        "コード05: データフレームKlistのサイズを知りたいです"
      ],
      "metadata": {
        "id": "bk2sz6is_4v9"
      }
    },
    {
      "cell_type": "code",
      "source": [
        "print(Klist.size)"
      ],
      "metadata": {
        "id": "LsX7zYUuFyFS"
      },
      "execution_count": null,
      "outputs": []
    },
    {
      "cell_type": "markdown",
      "source": [
        "コード06: データフレームKlistの列を抽出します。"
      ],
      "metadata": {
        "id": "-9lyEUYj_-mB"
      }
    },
    {
      "cell_type": "code",
      "source": [
        "print(Klist[\"birthmonth\"])\n",
        "#Klistという名前のデータフレームから、birthmonthという名前の列を抽出し、それをprintします。"
      ],
      "metadata": {
        "id": "oRX_rNWrHYNn"
      },
      "execution_count": null,
      "outputs": []
    },
    {
      "cell_type": "markdown",
      "source": [
        "コード07:インデックス番号を指定して、特定の行を抽出します"
      ],
      "metadata": {
        "id": "k5grnQ8rtdEM"
      }
    },
    {
      "cell_type": "code",
      "source": [
        "#スライスで行を選択します\n",
        "print(Klist.iloc[10000:20000])"
      ],
      "metadata": {
        "id": "JbFIJJakIe3A"
      },
      "execution_count": null,
      "outputs": []
    },
    {
      "cell_type": "markdown",
      "source": [
        "コード08 データフレームの一部を条件で抽出します。"
      ],
      "metadata": {
        "id": "n1kxe_PA1S59"
      }
    },
    {
      "cell_type": "code",
      "source": [
        "print(Klist[Klist[\"anonymized id\"] == \"pt_1\"])"
      ],
      "metadata": {
        "id": "n3LcM5T2J-nE"
      },
      "execution_count": null,
      "outputs": []
    }
  ]
}