{
  "nbformat": 4,
  "nbformat_minor": 0,
  "metadata": {
    "colab": {
      "provenance": []
    },
    "kernelspec": {
      "name": "python3",
      "display_name": "Python 3"
    },
    "language_info": {
      "name": "python"
    }
  },
  "cells": [
    {
      "cell_type": "markdown",
      "source": [
        "# **ランダムフォレスト**"
      ],
      "metadata": {
        "id": "Dmuk9WJ2aFaN"
      }
    },
    {
      "cell_type": "markdown",
      "source": [
        "# **STEP0：事前準備**"
      ],
      "metadata": {
        "id": "8yxEdl06aEWf"
      }
    },
    {
      "cell_type": "markdown",
      "source": [
        "**コード14-1 ライブラリとモジュールのインポート**"
      ],
      "metadata": {
        "id": "cXG46aUeah9H"
      }
    },
    {
      "cell_type": "code",
      "execution_count": null,
      "metadata": {
        "id": "OdOc9KAytzIG"
      },
      "outputs": [],
      "source": [
        "import numpy as np\n",
        "import pandas as pd\n",
        "import matplotlib.pyplot as plt"
      ]
    },
    {
      "cell_type": "markdown",
      "source": [
        "# **STEP1：データの用意**"
      ],
      "metadata": {
        "id": "Uz22Plvla1yt"
      }
    },
    {
      "cell_type": "markdown",
      "source": [
        "**コード14-2 乳がんデータの読み込み**"
      ],
      "metadata": {
        "id": "m5XgCCRVanan"
      }
    },
    {
      "cell_type": "code",
      "source": [
        "from sklearn.datasets import load_breast_cancer\n",
        "bc = load_breast_cancer(as_frame= True)"
      ],
      "metadata": {
        "id": "mVC6QVGa3pB7"
      },
      "execution_count": null,
      "outputs": []
    },
    {
      "cell_type": "markdown",
      "source": [
        "**コード14-3 学習データと検証データに分割**"
      ],
      "metadata": {
        "id": "8iq-wGDbav2h"
      }
    },
    {
      "cell_type": "code",
      "source": [
        "from sklearn.model_selection import train_test_split\n",
        "x_train, x_test, y_train, y_test = train_test_split(bc.data,\n",
        "                                                   bc.target,\n",
        "                                                   test_size=0.3,\n",
        "                                                   random_state=0)"
      ],
      "metadata": {
        "id": "sLDiLA2R30Ir"
      },
      "execution_count": null,
      "outputs": []
    },
    {
      "cell_type": "markdown",
      "source": [
        "# **STEP2：学習モデルの選択**"
      ],
      "metadata": {
        "id": "zoqToz_qa54s"
      }
    },
    {
      "cell_type": "markdown",
      "source": [
        "**コード14-4　学習モデルにランダムフォレストを選択**"
      ],
      "metadata": {
        "id": "cE4ZY7gHa-uV"
      }
    },
    {
      "cell_type": "code",
      "source": [
        "from sklearn.ensemble import RandomForestClassifier"
      ],
      "metadata": {
        "id": "vb07w4sRd3nD"
      },
      "execution_count": null,
      "outputs": []
    },
    {
      "cell_type": "markdown",
      "source": [
        "**コード14-5 ランダムフォレストの引数指定**"
      ],
      "metadata": {
        "id": "VuMpMs3rbOzP"
      }
    },
    {
      "cell_type": "code",
      "source": [
        "model_forest = RandomForestClassifier(n_estimators=100,\n",
        "                                      max_depth=4,\n",
        "                                      max_features=5,\n",
        "                                      random_state=0)"
      ],
      "metadata": {
        "id": "GEXdNkcZAUcN"
      },
      "execution_count": 15,
      "outputs": []
    },
    {
      "cell_type": "markdown",
      "source": [
        "# **STEP3：データを入れて学習**"
      ],
      "metadata": {
        "id": "49yNTB3l3Pge"
      }
    },
    {
      "cell_type": "markdown",
      "source": [
        "**コード14-6 学習用データで学習させる**"
      ],
      "metadata": {
        "id": "KkG4X3tc3ByU"
      }
    },
    {
      "cell_type": "code",
      "source": [
        "model_forest.fit(x_train, y_train)"
      ],
      "metadata": {
        "id": "oJFPczyQw9Cq"
      },
      "execution_count": null,
      "outputs": []
    },
    {
      "cell_type": "markdown",
      "source": [
        "# **STEP4：予測を行う**"
      ],
      "metadata": {
        "id": "tdB4qQKQ3Vjf"
      }
    },
    {
      "cell_type": "markdown",
      "source": [
        "**コード14-7 検証用データを用いて予測する**"
      ],
      "metadata": {
        "id": "7p1zDAdA3JFM"
      }
    },
    {
      "cell_type": "code",
      "source": [
        "print(model_forest.predict(x_test))\n",
        "print(np.array(y_test))"
      ],
      "metadata": {
        "id": "XOXhmhobsShq"
      },
      "execution_count": null,
      "outputs": []
    },
    {
      "cell_type": "markdown",
      "source": [
        "**コード14-8 混同行列の出力**"
      ],
      "metadata": {
        "id": "d1hP9fLP3a4F"
      }
    },
    {
      "cell_type": "code",
      "source": [
        "from sklearn.metrics import confusion_matrix\n",
        "confusion_matrix(y_test, model_forest.predict(x_test), labels = [1,0])"
      ],
      "metadata": {
        "id": "ZlthFuT0AfhC"
      },
      "execution_count": null,
      "outputs": []
    },
    {
      "cell_type": "markdown",
      "source": [
        "# **STEP5：モデルの評価**"
      ],
      "metadata": {
        "id": "dRodn2x34hDj"
      }
    },
    {
      "cell_type": "markdown",
      "source": [
        "**コード14-9 正解率の出力**"
      ],
      "metadata": {
        "id": "hQMOrTTk4brh"
      }
    },
    {
      "cell_type": "code",
      "source": [
        "print(model_forest.score(x_test, y_test))\n",
        "print(model_forest.score(x_train, y_train))"
      ],
      "metadata": {
        "id": "hhL2AxVieP3g"
      },
      "execution_count": null,
      "outputs": []
    },
    {
      "cell_type": "markdown",
      "source": [
        "**コード14-10 検証用データでAUC算出**"
      ],
      "metadata": {
        "id": "81GVtJdv4-IF"
      }
    },
    {
      "cell_type": "code",
      "source": [
        "from sklearn.metrics import roc_auc_score\n",
        "roc_auc_score(y_test, model_forest.predict_proba(x_test)[:,1])"
      ],
      "metadata": {
        "id": "60ABd6HLdERM"
      },
      "execution_count": null,
      "outputs": []
    },
    {
      "cell_type": "markdown",
      "source": [
        "**コード14-11 ROC曲線の描出**"
      ],
      "metadata": {
        "id": "8xMLSUyB_qPM"
      }
    },
    {
      "cell_type": "code",
      "source": [
        "from sklearn.metrics import RocCurveDisplay\n",
        "RocCurveDisplay.from_predictions(y_test,\n",
        "                                 model_forest.predict_proba(x_test)[:,1])\n",
        "plt.axis('square')\n",
        "plt.show()"
      ],
      "metadata": {
        "id": "tCsKeJZB_p-R"
      },
      "execution_count": null,
      "outputs": []
    },
    {
      "cell_type": "markdown",
      "source": [
        "**コード14-12 検証用データで適合率、再現率、F1値を算出**"
      ],
      "metadata": {
        "id": "DsG1uOke8aff"
      }
    },
    {
      "cell_type": "code",
      "source": [
        "from sklearn.metrics import classification_report\n",
        "pd.DataFrame(classification_report(y_test,\n",
        "                                   model_forest.predict(x_test),\n",
        "                                   output_dict=True))"
      ],
      "metadata": {
        "id": "zg6t4uiK6gOa"
      },
      "execution_count": null,
      "outputs": []
    },
    {
      "cell_type": "markdown",
      "source": [
        "# **特徴量の重要度**"
      ],
      "metadata": {
        "id": "Oefipi1R8QU4"
      }
    },
    {
      "cell_type": "markdown",
      "source": [
        "**コード14-13 特徴量重要度を取得**"
      ],
      "metadata": {
        "id": "8Yg_Tn8d8XQK"
      }
    },
    {
      "cell_type": "code",
      "source": [
        "print(model_forest.feature_importances_)"
      ],
      "metadata": {
        "id": "wcN6zmNqebo7"
      },
      "execution_count": null,
      "outputs": []
    },
    {
      "cell_type": "markdown",
      "source": [
        "**コード14-14 特徴量重要度を見やすくする**"
      ],
      "metadata": {
        "id": "uIuX8xAF86T_"
      }
    },
    {
      "cell_type": "code",
      "source": [
        "forest_importances = pd.DataFrame(\n",
        "    model_forest.feature_importances_,\n",
        "    index =bc.feature_names,\n",
        "    columns=['Importance'])"
      ],
      "metadata": {
        "id": "IXt-kR8RwVjA"
      },
      "execution_count": 24,
      "outputs": []
    },
    {
      "cell_type": "markdown",
      "source": [
        "**コード14-15 特徴量を表示**"
      ],
      "metadata": {
        "id": "p_xqZ_tE9L3i"
      }
    },
    {
      "cell_type": "code",
      "source": [
        "forest_importances"
      ],
      "metadata": {
        "id": "ByNss6yCwilP"
      },
      "execution_count": null,
      "outputs": []
    },
    {
      "cell_type": "markdown",
      "source": [
        "**コード14-16 重要度が高い順に表示**"
      ],
      "metadata": {
        "id": "Eay0Wj9d9Y4T"
      }
    },
    {
      "cell_type": "code",
      "source": [
        "forest_importances.sort_values('Importance', ascending=False)"
      ],
      "metadata": {
        "id": "sx2a9-Gow9EE"
      },
      "execution_count": null,
      "outputs": []
    },
    {
      "cell_type": "markdown",
      "source": [
        "**コード14-17 特徴量重要度の図示**"
      ],
      "metadata": {
        "id": "C6XcqFQT9uXU"
      }
    },
    {
      "cell_type": "code",
      "source": [
        "forest_importances.plot.bar()"
      ],
      "metadata": {
        "id": "Y91v_Fp9wu-f"
      },
      "execution_count": null,
      "outputs": []
    }
  ]
}