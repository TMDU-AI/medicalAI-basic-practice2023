{
  "nbformat": 4,
  "nbformat_minor": 0,
  "metadata": {
    "colab": {
      "provenance": []
    },
    "kernelspec": {
      "name": "python3",
      "display_name": "Python 3"
    },
    "language_info": {
      "name": "python"
    }
  },
  "cells": [
    {
      "cell_type": "markdown",
      "source": [
        "医療とAI・ビッグデータ入門\n",
        "演習11月16日"
      ],
      "metadata": {
        "id": "U5fc8rTFAXeS"
      }
    },
    {
      "cell_type": "markdown",
      "source": [
        "**コード01**"
      ],
      "metadata": {
        "id": "_bjTu8dyAiMQ"
      }
    },
    {
      "cell_type": "code",
      "execution_count": null,
      "metadata": {
        "id": "mlBPq5lLAJqv"
      },
      "outputs": [],
      "source": [
        "a =\n",
        "print()"
      ]
    },
    {
      "cell_type": "markdown",
      "source": [
        "**コード02**"
      ],
      "metadata": {
        "id": "ZmUfLA8RAy9J"
      }
    },
    {
      "cell_type": "code",
      "source": [
        "a = \"\" # \"\"(ダブルクォーテーション）の中に文字を入れてみましょう\n",
        "print()\n",
        "a = [] # []角括弧の中にリストを作りましょう\n",
        "print()"
      ],
      "metadata": {
        "id": "yw7c-ghyA1_5"
      },
      "execution_count": null,
      "outputs": []
    },
    {
      "cell_type": "markdown",
      "source": [
        "**デモ**：データの型を確認しましょう"
      ],
      "metadata": {
        "id": "GfCl0PdRBEcp"
      }
    },
    {
      "cell_type": "code",
      "source": [
        "a = 5\n",
        "b = 5.0\n",
        "c = 3+4*b\n",
        "greeting = \"Hello, World!\"\n",
        "numbers = [1,2,3,4,5]\n",
        "colors = (\"red\",\"green\",\"blue\")\n",
        "person = {\"name\":\"John\",\"age\":30, \"city\":\"New York\"}\n",
        "fruits = {\"apple\", \"banana\",\"cherry\"}"
      ],
      "metadata": {
        "id": "6o-A3NliBU0-"
      },
      "execution_count": null,
      "outputs": []
    },
    {
      "cell_type": "code",
      "source": [
        "type()"
      ],
      "metadata": {
        "id": "FoajLdWYgEl-"
      },
      "execution_count": null,
      "outputs": []
    },
    {
      "cell_type": "markdown",
      "source": [
        "**コード03**"
      ],
      "metadata": {
        "id": "-b7fHtMEECSb"
      }
    },
    {
      "cell_type": "code",
      "source": [
        "fruits = [\"apple\", \"〇\", \"cherry\",\"melon\"]\n",
        "numbers = [2,3,0,1000000000000000000,5] #数字を入れましょう\n",
        "mixed = [] #リストの中身を入れましょう\n",
        "\n",
        "print(fruits)\n",
        "print(numbers)\n",
        "print(mixed)"
      ],
      "metadata": {
        "id": "SWPQf-BEEEsD"
      },
      "execution_count": null,
      "outputs": []
    },
    {
      "cell_type": "code",
      "source": [
        "type()"
      ],
      "metadata": {
        "id": "DbSCreX5bwkQ"
      },
      "execution_count": null,
      "outputs": []
    },
    {
      "cell_type": "markdown",
      "source": [
        "**コード04**"
      ],
      "metadata": {
        "id": "5ncW24sNFCJb"
      }
    },
    {
      "cell_type": "code",
      "source": [
        "fruits = [\"apple\", \"banana\", \"cherry\",\"melon\"]\n",
        "#インデックスを使用して要素にアクセスします\n",
        "print(fruits[])\n",
        "print(fruits[])"
      ],
      "metadata": {
        "id": "NqRe2BBMFGW7"
      },
      "execution_count": null,
      "outputs": []
    },
    {
      "cell_type": "markdown",
      "source": [
        "**コード05**"
      ],
      "metadata": {
        "id": "dk3cXGcgFroL"
      }
    },
    {
      "cell_type": "code",
      "source": [
        "fruits = [\"apple\", \"banana\", \"cherry\",\"melon\"]\n",
        "#スライスを使用して要素にアクセスします\n",
        "print(fruits[1:3])\n",
        "print(fruits[:2])\n",
        "print(fruits[0:2])"
      ],
      "metadata": {
        "id": "ofyuHx_XFvPS"
      },
      "execution_count": null,
      "outputs": []
    },
    {
      "cell_type": "markdown",
      "source": [
        "**コード06**"
      ],
      "metadata": {
        "id": "ILWxBLhYInCs"
      }
    },
    {
      "cell_type": "code",
      "source": [
        "fruits = [\"apple\", \"banana\", \"cherry\", \"melon\"]\n",
        "#リストの要素を変更します\n",
        "fruits[1] = \"〇〇\"\n",
        "print(fruits)"
      ],
      "metadata": {
        "id": "ddPL_INXIp0T"
      },
      "execution_count": null,
      "outputs": []
    },
    {
      "cell_type": "markdown",
      "source": [
        "**コード07**"
      ],
      "metadata": {
        "id": "1CKGoXzRKvdO"
      }
    },
    {
      "cell_type": "code",
      "source": [
        "fruits = [\"apple\", \"banana\", \"cherry\",\"melon\"]\n",
        "#リストの要素を追加、削除します\n",
        "fruits.append(\"〇〇\") #好きなフルーツを追加しましょう。\n",
        "fruits.remove(\"〇〇\") #フルーツを一つ削除しましょう。\n",
        "print(fruits)"
      ],
      "metadata": {
        "id": "hj5sV0wZKzyu"
      },
      "execution_count": null,
      "outputs": []
    },
    {
      "cell_type": "markdown",
      "source": [
        "**コード08**"
      ],
      "metadata": {
        "id": "YuEhFTzbpIgZ"
      }
    },
    {
      "cell_type": "code",
      "source": [
        "numbers = [10,20,30,40,50,60]\n",
        "\n",
        "#sum関数を使ってリストの合計を計算できます：\n",
        "sum (リスト名を入力します)\n",
        "\n",
        "#totalという新しい変数を作ってもよいです：\n",
        "total = sum(リスト名)\n",
        "print(total)"
      ],
      "metadata": {
        "id": "4-N2MMzKpH7S"
      },
      "execution_count": null,
      "outputs": []
    },
    {
      "cell_type": "markdown",
      "source": [
        "**コード09**"
      ],
      "metadata": {
        "id": "icFPxhOordnD"
      }
    },
    {
      "cell_type": "code",
      "source": [
        "numbers = [10,20,30,40,50,60]\n",
        "\n",
        "#len関数を使ってリストの合計を計算できます：\n",
        "len (リスト名を入力します)\n",
        "\n",
        "#totalという新しい変数を作ってもよいです：\n",
        "count = len(リスト名)\n",
        "print(count)"
      ],
      "metadata": {
        "id": "rU2BeMbYqwyL"
      },
      "execution_count": null,
      "outputs": []
    },
    {
      "cell_type": "markdown",
      "source": [
        "**コード10**"
      ],
      "metadata": {
        "id": "l2Wr6pZBtWAj"
      }
    },
    {
      "cell_type": "code",
      "source": [
        "numbers = [10,20,30,40,50,60]\n",
        "\n",
        "min_value = 関数名(numbers)  # リスト内の最小値を取得\n",
        "max_value = 関数名(numbers)  # リスト内の最大値を取得\n",
        "\n",
        "print(min_value)\n",
        "print(max_value)\n"
      ],
      "metadata": {
        "id": "YA3EuXnErqDr"
      },
      "execution_count": null,
      "outputs": []
    },
    {
      "cell_type": "markdown",
      "source": [
        "**コード11**"
      ],
      "metadata": {
        "id": "43HHo2NvvT4b"
      }
    },
    {
      "cell_type": "code",
      "source": [
        "numbers = [10,20,30,40,50,60]\n",
        "\n",
        "average = 関数名(numbers)/関数名(numbers)\n",
        "print(average)"
      ],
      "metadata": {
        "colab": {
          "base_uri": "https://localhost:8080/"
        },
        "id": "h8Q8643VvTDb",
        "outputId": "78c2e65c-7c5c-4361-9f42-e98084ff8312"
      },
      "execution_count": null,
      "outputs": [
        {
          "output_type": "stream",
          "name": "stdout",
          "text": [
            "10.0\n"
          ]
        }
      ]
    },
    {
      "cell_type": "markdown",
      "source": [
        "**コード12**"
      ],
      "metadata": {
        "id": "TO0Kp6kOKXdA"
      }
    },
    {
      "cell_type": "code",
      "source": [
        "fruits = [\"apple\", \"banana\", \"cherry\",\"melon\"]\n",
        "numbers = [10,20,30,40,50,60]\n",
        "\n",
        "newlist = リスト名1 + リスト名2\n",
        "print(newlist)"
      ],
      "metadata": {
        "id": "yYTeDAeZDMfU"
      },
      "execution_count": null,
      "outputs": []
    },
    {
      "cell_type": "code",
      "source": [],
      "metadata": {
        "id": "f3ey4xM9DMTU"
      },
      "execution_count": null,
      "outputs": []
    }
  ]
}