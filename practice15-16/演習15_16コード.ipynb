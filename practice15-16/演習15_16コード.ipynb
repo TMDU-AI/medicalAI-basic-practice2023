{
  "cells": [
    {
      "cell_type": "markdown",
      "metadata": {
        "id": "_x4Ci1ORQ7ZK"
      },
      "source": [
        "## **深層学習　乳がんデータセットで分類を行う**"
      ]
    },
    {
      "cell_type": "markdown",
      "metadata": {
        "id": "9hXa6V7iRFuF"
      },
      "source": [
        "# **STEP0：事前準備**"
      ]
    },
    {
      "cell_type": "markdown",
      "metadata": {
        "id": "mqyLLQLORMJD"
      },
      "source": [
        "**コード15-1 ライブラリとモジュールをインポート**"
      ]
    },
    {
      "cell_type": "code",
      "execution_count": null,
      "metadata": {
        "id": "0qqQPl4-Vj2N"
      },
      "outputs": [],
      "source": [
        "import numpy as np\n",
        "import pandas as pd\n",
        "import matplotlib.pyplot as plt"
      ]
    },
    {
      "cell_type": "markdown",
      "metadata": {
        "id": "0Oe6EY6SRUOA"
      },
      "source": [
        "# **STEP1：データの用意**"
      ]
    },
    {
      "cell_type": "markdown",
      "metadata": {
        "id": "XisYQijIRZgS"
      },
      "source": [
        "**コード15-2 乳がんデータの読み込み**"
      ]
    },
    {
      "cell_type": "code",
      "execution_count": null,
      "metadata": {
        "id": "5y311W3vWAWX"
      },
      "outputs": [],
      "source": [
        "from sklearn.datasets import load_breast_cancer\n",
        "bc = load_breast_cancer(as_frame = False)"
      ]
    },
    {
      "cell_type": "code",
      "execution_count": null,
      "metadata": {
        "id": "4LIpKKRBRqK0"
      },
      "outputs": [],
      "source": [
        "bc.target"
      ]
    },
    {
      "cell_type": "code",
      "execution_count": null,
      "metadata": {
        "id": "zpwM87seRtSi"
      },
      "outputs": [],
      "source": [
        "bc.data"
      ]
    },
    {
      "cell_type": "markdown",
      "metadata": {
        "id": "SbfYDILFWdJL"
      },
      "source": [
        "**コード15-3 学習データと検証データに分割**"
      ]
    },
    {
      "cell_type": "code",
      "execution_count": null,
      "metadata": {
        "id": "YIaTwb4yWHHd"
      },
      "outputs": [],
      "source": [
        "from sklearn.model_selection import train_test_split\n",
        "x_train, x_test, y_train, y_test = train_test_split(bc.data,\n",
        "                                                   bc.target,\n",
        "                                                   test_size=0.3,\n",
        "                                                   random_state=0)"
      ]
    },
    {
      "cell_type": "markdown",
      "metadata": {
        "id": "W5lN2yqNR4sf"
      },
      "source": [
        "**コード15-4 3つの特徴量だけを抽出する**"
      ]
    },
    {
      "cell_type": "code",
      "execution_count": null,
      "metadata": {
        "id": "Y__van0iW2iw"
      },
      "outputs": [],
      "source": [
        "x_train3 = x_train[:,0:3]\n",
        "x_test3 = x_test[:,0:3]"
      ]
    },
    {
      "cell_type": "markdown",
      "metadata": {
        "id": "12puJlKwSblI"
      },
      "source": [
        "**コード15-5 データの配列構造を確認する**"
      ]
    },
    {
      "cell_type": "code",
      "execution_count": null,
      "metadata": {
        "id": "kTNELZPLSRzE"
      },
      "outputs": [],
      "source": [
        "print(x_train.shape)\n",
        "print(x_test.shape)\n",
        "print(x_train3.shape)\n",
        "print(x_test3.shape)"
      ]
    },
    {
      "cell_type": "markdown",
      "metadata": {
        "id": "6I62ynSSSkwZ"
      },
      "source": [
        "# **STEP2：学習モデルの選択**"
      ]
    },
    {
      "cell_type": "markdown",
      "metadata": {
        "id": "zi152lbRSqaI"
      },
      "source": [
        "**コード15-6 学習モデルの設計**"
      ]
    },
    {
      "cell_type": "code",
      "execution_count": null,
      "metadata": {
        "id": "jRcz6j_iSw0D"
      },
      "outputs": [],
      "source": [
        "from keras.models import Sequential\n",
        "from keras.layers import Dense"
      ]
    },
    {
      "cell_type": "code",
      "execution_count": null,
      "metadata": {
        "id": "pUMgnZScXADI"
      },
      "outputs": [],
      "source": [
        "model_3 = Sequential()\n",
        "model_3.add(Dense(2, input_shape=(3,), activation='relu'))\n",
        "model_3.add(Dense(1, activation = 'sigmoid'))\n",
        "model_3.compile(loss='binary_crossentropy', optimizer = 'Adam', metrics=['accuracy'])\n",
        "model_3.summary()"
      ]
    },
    {
      "cell_type": "markdown",
      "metadata": {
        "id": "GiJfYZOEadbT"
      },
      "source": [
        "# **STEP3：データを入れて学習させる**"
      ]
    },
    {
      "cell_type": "markdown",
      "metadata": {
        "id": "kb9iXWUOS8Hh"
      },
      "source": [
        "**コード15-7 学習用データで学習させる**"
      ]
    },
    {
      "cell_type": "code",
      "execution_count": null,
      "metadata": {
        "id": "p_mzhWexYLyF"
      },
      "outputs": [],
      "source": [
        "result = model_3.fit(x_train3, y_train, batch_size = 32, epochs = 300)"
      ]
    },
    {
      "cell_type": "markdown",
      "metadata": {
        "id": "7cPDSeUibCEg"
      },
      "source": [
        "# **STEP4：学習結果の図示**"
      ]
    },
    {
      "cell_type": "markdown",
      "metadata": {
        "id": "kvnOZSYhacr5"
      },
      "source": [
        "**コード15-8 学習結果の表示**"
      ]
    },
    {
      "cell_type": "code",
      "execution_count": null,
      "metadata": {
        "id": "rWYcpTsMZ4xy"
      },
      "outputs": [],
      "source": [
        "result.history"
      ]
    },
    {
      "cell_type": "code",
      "execution_count": null,
      "metadata": {
        "id": "GY2T2X5vaDly"
      },
      "outputs": [],
      "source": [
        "result.history['loss']"
      ]
    },
    {
      "cell_type": "markdown",
      "metadata": {
        "id": "t1liu1rvaxBA"
      },
      "source": [
        "**コード15-9 学習結果の図示**"
      ]
    },
    {
      "cell_type": "code",
      "execution_count": null,
      "metadata": {
        "id": "UgloTepoaWpp"
      },
      "outputs": [],
      "source": [
        "plt.plot(result.history['loss'])\n",
        "plt.title('loss')\n",
        "plt.show()\n",
        "\n",
        "plt.plot(result.history['accuracy'])\n",
        "plt.title('accuracy')\n",
        "plt.show()"
      ]
    },
    {
      "cell_type": "markdown",
      "metadata": {
        "id": "E8vuMx0ZbG2f"
      },
      "source": [
        "# **STEP5：モデルの評価**"
      ]
    },
    {
      "cell_type": "markdown",
      "metadata": {
        "id": "p4AR08yqbMZO"
      },
      "source": [
        "**コード15-10 検証用データでモデルの性能評価**"
      ]
    },
    {
      "cell_type": "code",
      "execution_count": null,
      "metadata": {
        "id": "jepKel-Ua4xm"
      },
      "outputs": [],
      "source": [
        "evaluate_loss, evaluate_accuracy = model_3.evaluate(x_test3, y_test)\n",
        "print(evaluate_loss)\n",
        "print(evaluate_accuracy)"
      ]
    },
    {
      "cell_type": "markdown",
      "metadata": {
        "id": "B80BXyG-ccaU"
      },
      "source": [
        "# **精度を上げられるか検討**"
      ]
    },
    {
      "cell_type": "markdown",
      "metadata": {
        "id": "kKXByUx6cbpm"
      },
      "source": [
        "# **STEP1：データの用意**"
      ]
    },
    {
      "cell_type": "markdown",
      "metadata": {
        "id": "1r2QvyBTcpIa"
      },
      "source": [
        "**コード15-11 10個の特徴量を抽出する**"
      ]
    },
    {
      "cell_type": "code",
      "execution_count": null,
      "metadata": {
        "id": "GVQFd0lL0NLa"
      },
      "outputs": [],
      "source": [
        "x_train10 = x_train[:,0:10]\n",
        "x_test10 = x_test[:,0:10]\n",
        "print(x_train10.shape)\n",
        "print(x_test10.shape)"
      ]
    },
    {
      "cell_type": "markdown",
      "metadata": {
        "id": "Nyy6MJz4c2pR"
      },
      "source": [
        "# **STEP2：学習モデルの選択**"
      ]
    },
    {
      "cell_type": "markdown",
      "metadata": {
        "id": "IGdu2Z9Ic50J"
      },
      "source": [
        "**コード15-12 学習モデルを設計**"
      ]
    },
    {
      "cell_type": "code",
      "execution_count": null,
      "metadata": {
        "id": "VWthYxF70Y6O"
      },
      "outputs": [],
      "source": [
        "model_10 = Sequential()\n",
        "model_10.add(Dense(4, input_shape=(10,), activation='relu'))\n",
        "model_10.add(Dense(4, activation='relu'))\n",
        "model_10.add(Dense(1, activation = 'sigmoid'))\n",
        "model_10.compile(loss='binary_crossentropy', optimizer = 'Adam', metrics=['accuracy'])\n",
        "model_10.summary()"
      ]
    },
    {
      "cell_type": "markdown",
      "metadata": {
        "id": "jG0HDJ56dpoh"
      },
      "source": [
        "# **STEP3：データを入れて学習させる**"
      ]
    },
    {
      "cell_type": "markdown",
      "metadata": {
        "id": "RVIHrKE2deK5"
      },
      "source": [
        "**コード15-13 学習用データで学習させる**"
      ]
    },
    {
      "cell_type": "code",
      "execution_count": null,
      "metadata": {
        "id": "bHKgCbm28T2u"
      },
      "outputs": [],
      "source": [
        "result10 = model_10.fit(x_train10, y_train, batch_size = 32, epochs = 300)"
      ]
    },
    {
      "cell_type": "markdown",
      "metadata": {
        "id": "NKcy4EhadzXs"
      },
      "source": [
        "# **STEP4：学習結果の図示**"
      ]
    },
    {
      "cell_type": "markdown",
      "metadata": {
        "id": "_tDeCl5kd5ro"
      },
      "source": [
        "**コード15-14 学習結果の図示**"
      ]
    },
    {
      "cell_type": "code",
      "execution_count": null,
      "metadata": {
        "id": "ktT6TXIe84AZ"
      },
      "outputs": [],
      "source": [
        "plt.plot(result10.history['loss'])\n",
        "plt.title('loss')\n",
        "plt.show()\n",
        "\n",
        "plt.plot(result10.history['accuracy'])\n",
        "plt.title('accuracy')\n",
        "plt.show()"
      ]
    },
    {
      "cell_type": "markdown",
      "metadata": {
        "id": "uOnIJH6_eKVj"
      },
      "source": [
        "# **STEP5：モデルの評価**"
      ]
    },
    {
      "cell_type": "markdown",
      "metadata": {
        "id": "rvZl7J1DeNL0"
      },
      "source": [
        "**コード15-15 検証用データでモデルの評価**"
      ]
    },
    {
      "cell_type": "code",
      "execution_count": null,
      "metadata": {
        "id": "yOwEii3V-1Me"
      },
      "outputs": [],
      "source": [
        "evaluate_loss, evaluate_accuracy = model_10.evaluate(x_test10, y_test)\n",
        "print(evaluate_loss)\n",
        "print(evaluate_accuracy)"
      ]
    }
  ],
  "metadata": {
    "colab": {
      "provenance": []
    },
    "kernelspec": {
      "display_name": "Python 3",
      "name": "python3"
    },
    "language_info": {
      "name": "python"
    }
  },
  "nbformat": 4,
  "nbformat_minor": 0
}