{
  "cells": [
    {
      "cell_type": "markdown",
      "metadata": {
        "id": "-WhuOlWi5ilr"
      },
      "source": [
        "演習1 下のプログラムを実行して下さい"
      ]
    },
    {
      "cell_type": "code",
      "execution_count": null,
      "metadata": {
        "id": "SN4sma-Z5e4A"
      },
      "outputs": [],
      "source": [
        "1 + 3"
      ]
    },
    {
      "cell_type": "markdown",
      "metadata": {
        "id": "W5TjX8TCXye7"
      },
      "source": [
        "演習2 下に 84356と5343の掛け算を実行してください"
      ]
    },
    {
      "cell_type": "code",
      "execution_count": null,
      "metadata": {
        "id": "O8SYz0HxXu0t"
      },
      "outputs": [],
      "source": []
    },
    {
      "cell_type": "markdown",
      "metadata": {
        "id": "7E0X3XER5yjK"
      },
      "source": [
        "演習3 下の#####をを書き換えて埋めて\"こんにちは\"が出力されるようにして下さい"
      ]
    },
    {
      "cell_type": "code",
      "execution_count": null,
      "metadata": {
        "id": "fHkcY5ux5lnm"
      },
      "outputs": [],
      "source": [
        "hello = #####\n",
        "hello"
      ]
    },
    {
      "attachments": {},
      "cell_type": "markdown",
      "metadata": {
        "id": "Kb8448v76H54"
      },
      "source": [
        "演習4 自分の学籍番号と名前をそれぞれ変数a,bに代入して、\"私の名前はb(自分の名前)で学籍番号はa(自分の名前)です\"と出力して下さい(参考資料)\n",
        "出力結果の例) 私の名前は須藤毅顕で学籍番号は12345678です"
      ]
    },
    {
      "cell_type": "code",
      "execution_count": null,
      "metadata": {
        "id": "4cvRYbkr5lpx"
      },
      "outputs": [],
      "source": []
    },
    {
      "cell_type": "markdown",
      "metadata": {
        "id": "IW7cWz88_seZ"
      },
      "source": [
        "必ずファイル名を変えて(学籍番号_名前_1.ipynb)提出して下さい。締め切りを過ぎたもの、ファイル名が正しくないものは原則受け取りません。"
      ]
    }
  ],
  "metadata": {
    "colab": {
      "provenance": []
    },
    "kernelspec": {
      "display_name": "Python 3",
      "name": "python3"
    },
    "language_info": {
      "name": "python"
    }
  },
  "nbformat": 4,
  "nbformat_minor": 0
}
