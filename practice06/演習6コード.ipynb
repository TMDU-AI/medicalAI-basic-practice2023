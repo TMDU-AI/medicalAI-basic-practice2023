{
  "nbformat": 4,
  "nbformat_minor": 0,
  "metadata": {
    "colab": {
      "provenance": []
    },
    "kernelspec": {
      "name": "python3",
      "display_name": "Python 3"
    },
    "language_info": {
      "name": "python"
    }
  },
  "cells": [
    {
      "cell_type": "markdown",
      "source": [
        "## 12月21日演習6コード"
      ],
      "metadata": {
        "id": "2tN1zDJ5z39E"
      }
    },
    {
      "cell_type": "markdown",
      "source": [
        "コード01:Pandasをインポートします。"
      ],
      "metadata": {
        "id": "FEOw_80MXC7Q"
      }
    },
    {
      "cell_type": "code",
      "source": [
        "import pandas as pd"
      ],
      "metadata": {
        "id": "eit5UEuuwqwm"
      },
      "execution_count": null,
      "outputs": []
    },
    {
      "cell_type": "markdown",
      "source": [
        "コード02:Google Driveをマウントします。"
      ],
      "metadata": {
        "id": "g9mNSH5D_fln"
      }
    },
    {
      "cell_type": "code",
      "source": [
        "from google.colab import drive\n",
        "drive.mount('/content/drive')"
      ],
      "metadata": {
        "id": "Am8SZJhjIUbs"
      },
      "execution_count": null,
      "outputs": []
    },
    {
      "cell_type": "markdown",
      "source": [
        "コード03:CSVファイルを読み込みます。"
      ],
      "metadata": {
        "id": "bUpBbYpW_noS"
      }
    },
    {
      "cell_type": "code",
      "execution_count": null,
      "metadata": {
        "id": "G_Dp0-ap9wyo"
      },
      "outputs": [],
      "source": [
        "import pandas as pd\n",
        "Klist = pd.read_csv(\"/content/drive/My Drive/dwhdata1221.csv\", encoding=\"utf-8\")\n",
        "print(Klist)"
      ]
    },
    {
      "cell_type": "markdown",
      "source": [
        "コード04:患者人数を集計します。"
      ],
      "metadata": {
        "id": "izDSyI3AXRE4"
      }
    },
    {
      "cell_type": "code",
      "source": [
        "#患者ID列を抽出します。\n",
        "print(Klist[\"id\"])"
      ],
      "metadata": {
        "id": "ilOX4iRbkvnK"
      },
      "execution_count": null,
      "outputs": []
    },
    {
      "cell_type": "code",
      "source": [
        "print(Klist[\"id\"].unique())"
      ],
      "metadata": {
        "id": "d0IckE5jmHLH"
      },
      "execution_count": null,
      "outputs": []
    },
    {
      "cell_type": "code",
      "source": [
        "print(Klist[\"id\"].nunique())"
      ],
      "metadata": {
        "id": "dPYxURn20JE0"
      },
      "execution_count": null,
      "outputs": []
    },
    {
      "cell_type": "markdown",
      "source": [
        "コード05:歯の数を集計します。"
      ],
      "metadata": {
        "id": "eLVwz8aKXb5C"
      }
    },
    {
      "cell_type": "code",
      "source": [
        "print(Klist[\"tooth record\"]) #データフレーム特定の列にアクセスします。"
      ],
      "metadata": {
        "id": "_ywINX9azLt3"
      },
      "execution_count": null,
      "outputs": []
    },
    {
      "cell_type": "code",
      "source": [
        "print(Klist[\"tooth record\"][0]) #データフレーム特定の列の要素にアクセスします。"
      ],
      "metadata": {
        "id": "DiOBNLzY1ss-"
      },
      "execution_count": null,
      "outputs": []
    },
    {
      "cell_type": "code",
      "source": [
        "#データフレーム行の数を数えます\n",
        "print(len(Klist))"
      ],
      "metadata": {
        "id": "y87VwwZMz7lH"
      },
      "execution_count": null,
      "outputs": []
    },
    {
      "cell_type": "markdown",
      "source": [
        "コード05:新しい列を追加、中に値を入れます。"
      ],
      "metadata": {
        "id": "8h6O7CkkNxiI"
      }
    },
    {
      "cell_type": "code",
      "source": [
        "Klist[\"tooth exist\"] = None\n",
        "print(Klist)"
      ],
      "metadata": {
        "id": "2hHbeiK4FFog"
      },
      "execution_count": null,
      "outputs": []
    },
    {
      "cell_type": "code",
      "source": [
        "for i in range(len(Klist)): #len(Klist)はデータフレームの行を数える関数です\n",
        "    if Klist['tooth record'][i] == \"喪失歯\": #Klist[\"tooth record\"][i]はデータフレームの中一箇所の位置を示します。\n",
        "        Klist[\"tooth exist\"][i] = 0 #Klist[\"tooth exist\"][i]は新しい列の中一箇所の位置を示します。\n",
        "    else:\n",
        "        Klist[\"tooth exist\"][i] = 1 #Klist[\"tooth exist\"][i]は新しい列の中一箇所の位置を示します。"
      ],
      "metadata": {
        "id": "U1KqgNbI6seS"
      },
      "execution_count": null,
      "outputs": []
    },
    {
      "cell_type": "code",
      "source": [
        "print(Klist)"
      ],
      "metadata": {
        "id": "aT63GUfn7Uxo"
      },
      "execution_count": null,
      "outputs": []
    },
    {
      "cell_type": "markdown",
      "source": [
        "コード05:groupbyを使って歯の本数を集計します。"
      ],
      "metadata": {
        "id": "JMWh9OYsLeFj"
      }
    },
    {
      "cell_type": "code",
      "source": [
        "print(Klist.groupby(\"id\")[\"tooth exist\"].sum())"
      ],
      "metadata": {
        "id": "TKzO4HKuGP7Q"
      },
      "execution_count": null,
      "outputs": []
    }
  ]
}