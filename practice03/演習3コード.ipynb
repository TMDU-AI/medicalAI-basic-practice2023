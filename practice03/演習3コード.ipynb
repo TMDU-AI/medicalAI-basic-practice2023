{
  "nbformat": 4,
  "nbformat_minor": 0,
  "metadata": {
    "colab": {
      "provenance": []
    },
    "kernelspec": {
      "name": "python3",
      "display_name": "Python 3"
    },
    "language_info": {
      "name": "python"
    }
  },
  "cells": [
    {
      "cell_type": "markdown",
      "source": [
        "# **演習3：2023年11月30日**"
      ],
      "metadata": {
        "id": "1v1Zg9N1NO5B"
      }
    },
    {
      "cell_type": "markdown",
      "source": [
        "**デモ：if文を使って簡単なプログラムを書きましょう**"
      ],
      "metadata": {
        "id": "30OVP7Q-MeFI"
      }
    },
    {
      "cell_type": "code",
      "source": [
        "age = 18\n",
        "\n",
        "if age < 18:\n",
        "  print(\"未成年です\")\n",
        "else:\n",
        "  print(\"成人です\")\n"
      ],
      "metadata": {
        "id": "gmd0om-Oehvk"
      },
      "execution_count": null,
      "outputs": []
    },
    {
      "cell_type": "markdown",
      "source": [
        "# コード01"
      ],
      "metadata": {
        "id": "S9n8xD_JW8V0"
      }
    },
    {
      "cell_type": "code",
      "source": [
        "score = 95\n",
        "\n",
        "if score < 60:\n",
        "    print(\"D\")\n",
        "elif 60 <= score < 70:\n",
        "    print(\"C\")\n",
        "elif 70 <= score < 80:\n",
        "    print(\"B\")\n",
        "elif 80 <= score < 90:\n",
        "    print(\"A\")\n",
        "else:\n",
        "    print(\"A+\")"
      ],
      "metadata": {
        "id": "ZZsqp0NCfcea"
      },
      "execution_count": null,
      "outputs": []
    },
    {
      "cell_type": "markdown",
      "source": [
        "**デモ：for文を使って簡単なプログラムを書きましょう**"
      ],
      "metadata": {
        "id": "h3_S6OFUcYkT"
      }
    },
    {
      "cell_type": "code",
      "source": [
        "#フルーツを順番に表示します。\n",
        "fruits = [\"apple\", \"banana\",\"cherry\",\"melon\"]\n",
        "for f in fruits:\n",
        "  print(f)"
      ],
      "metadata": {
        "id": "A8s9egnYc6d7"
      },
      "execution_count": null,
      "outputs": []
    },
    {
      "cell_type": "code",
      "source": [
        "#0から3までの整数を順番に表示します。\n",
        "for i in range(0, 4):\n",
        "    print(i)\n",
        "\n",
        "for i in range(4):\n",
        "    print(i)"
      ],
      "metadata": {
        "id": "Xb_a_uo0c6SD"
      },
      "execution_count": null,
      "outputs": []
    },
    {
      "cell_type": "markdown",
      "source": [
        "# コード02"
      ],
      "metadata": {
        "id": "Jvah41L5yEv1"
      }
    },
    {
      "cell_type": "code",
      "source": [
        "scores = [99, 75, 59, 85, 60]\n",
        "for s in scores:\n",
        "    if s < 60:\n",
        "        print(\"D\")\n",
        "    elif 60 <= s < 70:\n",
        "        print(\"C\")\n",
        "    elif 70 <= s < 80:\n",
        "        print(\"B\")\n",
        "    elif 80 <= s <90:\n",
        "        print(\"A\")\n",
        "    else:\n",
        "        print(\"A+\")"
      ],
      "metadata": {
        "id": "JmM-rVAioCOE"
      },
      "execution_count": null,
      "outputs": []
    },
    {
      "cell_type": "markdown",
      "source": [
        "**デモ：関数を書きましょう**"
      ],
      "metadata": {
        "id": "InavYjHB6_-I"
      }
    },
    {
      "cell_type": "code",
      "source": [
        "def q(a, b, c):\n",
        "\n",
        "    x = a + 4*b + 5*c\n",
        "\n",
        "    return x\n",
        "\n",
        "#関数の呼び出し\n",
        "x1 = q(1,2,3)\n",
        "print(x1)\n",
        "\n",
        "x2 = q(333,444,555)\n",
        "print(x2)"
      ],
      "metadata": {
        "id": "cUK02vfp7Et9"
      },
      "execution_count": null,
      "outputs": []
    },
    {
      "cell_type": "markdown",
      "source": [
        "# コード03"
      ],
      "metadata": {
        "id": "Eu3GH6raT_VW"
      }
    },
    {
      "cell_type": "code",
      "source": [
        "#bmi = weight / (height**2)\n",
        "#weight：引数1\n",
        "#height：引数2\n",
        "\n",
        "def calculate_bmi(weight, height):\n",
        "    bmi = weight / (height**2)\n",
        "    return bmi\n",
        "\n",
        "mybmi = calculate_bmi(70,1.75)\n",
        "print(mybmi)"
      ],
      "metadata": {
        "id": "jA4cdjuqUFF6"
      },
      "execution_count": null,
      "outputs": []
    },
    {
      "cell_type": "markdown",
      "source": [
        "# コード04"
      ],
      "metadata": {
        "id": "hfxgXU-eMYfU"
      }
    },
    {
      "cell_type": "code",
      "source": [
        "def bmi_category(bmi):\n",
        "  if bmi < 18.5:\n",
        "    return \"低体重\"\n",
        "  elif 18.5 <= bmi < 25:\n",
        "    return \"正常体重\"\n",
        "  elif 25 <= bmi < 30:\n",
        "    return \"軽度の肥満\"\n",
        "  else:\n",
        "    return \"肥満\"\n",
        "\n",
        "mybmi = bmi_category(20.5)\n",
        "print(mybmi)\n"
      ],
      "metadata": {
        "id": "bTkd4eej1i0z"
      },
      "execution_count": null,
      "outputs": []
    }
  ]
}