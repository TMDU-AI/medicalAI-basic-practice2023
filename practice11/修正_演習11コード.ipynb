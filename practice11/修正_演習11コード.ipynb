{
  "nbformat": 4,
  "nbformat_minor": 0,
  "metadata": {
    "colab": {
      "provenance": []
    },
    "kernelspec": {
      "name": "python3",
      "display_name": "Python 3"
    },
    "language_info": {
      "name": "python"
    }
  },
  "cells": [
    {
      "cell_type": "markdown",
      "source": [
        "# **STEP0 事前準備**"
      ],
      "metadata": {
        "id": "BqkdaZogkV3c"
      }
    },
    {
      "cell_type": "markdown",
      "source": [
        "**コード11-1 ライブラリのインポート**"
      ],
      "metadata": {
        "id": "7FDE9IMhkZ0A"
      }
    },
    {
      "cell_type": "code",
      "execution_count": null,
      "metadata": {
        "id": "Cx8etdfFyDQR"
      },
      "outputs": [],
      "source": [
        "import numpy as np\n",
        "import pandas as pd"
      ]
    },
    {
      "cell_type": "markdown",
      "source": [
        "# **STEP1 データの用意**"
      ],
      "metadata": {
        "id": "kioiO9_KkheZ"
      }
    },
    {
      "cell_type": "markdown",
      "source": [
        "**コード11-2 乳がんデータの読み込み**"
      ],
      "metadata": {
        "id": "6ZLkOGamkhSK"
      }
    },
    {
      "cell_type": "code",
      "source": [
        "from sklearn.datasets import load_breast_cancer\n",
        "bc = load_breast_cancer(as_frame= True)"
      ],
      "metadata": {
        "id": "Fbbj8MnryHCo"
      },
      "execution_count": null,
      "outputs": []
    },
    {
      "cell_type": "markdown",
      "source": [
        "**コード11-3 正解値データの作成**"
      ],
      "metadata": {
        "id": "Ae9GAnU5yVe5"
      }
    },
    {
      "cell_type": "code",
      "source": [
        "y_bc = bc.target\n",
        "y_bc.head()"
      ],
      "metadata": {
        "id": "m0G04Wc-GqLs"
      },
      "execution_count": null,
      "outputs": []
    },
    {
      "cell_type": "code",
      "source": [
        "y_bc.shape"
      ],
      "metadata": {
        "id": "RJItvv8uJ0Ma"
      },
      "execution_count": null,
      "outputs": []
    },
    {
      "cell_type": "code",
      "source": [
        "type(y_bc)"
      ],
      "metadata": {
        "id": "cYJUlVUzJ7Vt"
      },
      "execution_count": null,
      "outputs": []
    },
    {
      "cell_type": "markdown",
      "source": [
        "**コード11-4 腫瘍の分類の頻度を記述**"
      ],
      "metadata": {
        "id": "Ot-bGrFuk0n_"
      }
    },
    {
      "cell_type": "code",
      "source": [
        "y_bc.value_counts()"
      ],
      "metadata": {
        "id": "kb1uGFBQKTTa"
      },
      "execution_count": null,
      "outputs": []
    },
    {
      "cell_type": "markdown",
      "source": [
        "**コード11-5 特徴量データの作成**"
      ],
      "metadata": {
        "id": "k-PQeFwWk9UB"
      }
    },
    {
      "cell_type": "code",
      "source": [
        "x_bc = bc.data\n",
        "x_bc.head()"
      ],
      "metadata": {
        "id": "eg3oQ3IAQ3PD"
      },
      "execution_count": null,
      "outputs": []
    },
    {
      "cell_type": "markdown",
      "source": [
        "**コード11-6 列名を出力**"
      ],
      "metadata": {
        "id": "EmGkcwDzlNlv"
      }
    },
    {
      "cell_type": "code",
      "source": [
        "x_bc.columns"
      ],
      "metadata": {
        "id": "kK0RkGzfOvQb"
      },
      "execution_count": null,
      "outputs": []
    },
    {
      "cell_type": "markdown",
      "source": [
        "**コード11-7 特徴量データから1~10列抽出**"
      ],
      "metadata": {
        "id": "eU_TG35hldiZ"
      }
    },
    {
      "cell_type": "code",
      "source": [
        "x_bc10 = x_bc.iloc[:, 0:10]\n",
        "x_bc10.head()"
      ],
      "metadata": {
        "id": "ZwKMY4NaUoI5"
      },
      "execution_count": null,
      "outputs": []
    },
    {
      "cell_type": "code",
      "source": [
        "x_bc10.shape"
      ],
      "metadata": {
        "id": "u_wfFxbFXzbR"
      },
      "execution_count": null,
      "outputs": []
    },
    {
      "cell_type": "code",
      "source": [
        "type(x_bc10)"
      ],
      "metadata": {
        "id": "soi2d1CkYus3"
      },
      "execution_count": null,
      "outputs": []
    },
    {
      "cell_type": "markdown",
      "source": [
        "**コード11-9 x_bc10の記述統計値を出力**"
      ],
      "metadata": {
        "id": "YENodaxSmA9t"
      }
    },
    {
      "cell_type": "code",
      "source": [
        "x_bc10.describe()"
      ],
      "metadata": {
        "id": "XKOsE3wsY5nE"
      },
      "execution_count": null,
      "outputs": []
    },
    {
      "cell_type": "markdown",
      "source": [
        "**コード11-10 学習データと検証データに分割**"
      ],
      "metadata": {
        "id": "HnG5O3jomppx"
      }
    },
    {
      "cell_type": "code",
      "source": [
        "from sklearn.model_selection import train_test_split\n",
        "x_train, x_test, y_train, y_test = train_test_split(\n",
        "  x_bc10,\n",
        "  y_bc,\n",
        "  test_size = 0.3,\n",
        "  random_state = 0)"
      ],
      "metadata": {
        "id": "MXK_P1VgaHud"
      },
      "execution_count": null,
      "outputs": []
    },
    {
      "cell_type": "markdown",
      "source": [
        "**コード11-11 分割されたデータを調べる**"
      ],
      "metadata": {
        "id": "KFiukVoR3Ja4"
      }
    },
    {
      "cell_type": "code",
      "source": [
        "print(x_train.shape)\n",
        "print(x_test.shape)\n",
        "print(y_train.shape)\n",
        "print(y_test.shape)"
      ],
      "metadata": {
        "id": "UCu1jnH43Mx-"
      },
      "execution_count": null,
      "outputs": []
    },
    {
      "cell_type": "markdown",
      "source": [
        "# **STEP2 学習モデルの選択**"
      ],
      "metadata": {
        "id": "IIn4cnR1nlss"
      }
    },
    {
      "cell_type": "markdown",
      "source": [
        "**コード11-12 ロジスティック回帰モデルを選択**"
      ],
      "metadata": {
        "id": "wkkz-CIBnf2M"
      }
    },
    {
      "cell_type": "code",
      "source": [
        "from sklearn.linear_model import LogisticRegression\n",
        "model_bc = LogisticRegression()"
      ],
      "metadata": {
        "id": "Kz36Zc0yafDO"
      },
      "execution_count": null,
      "outputs": []
    },
    {
      "cell_type": "markdown",
      "source": [
        "**コード11-13 学習用データで学習させる**"
      ],
      "metadata": {
        "id": "9jEymCWqn2Af"
      }
    },
    {
      "cell_type": "code",
      "source": [
        "model_bc.fit(x_train, y_train)"
      ],
      "metadata": {
        "id": "wAMjm7a3al3b"
      },
      "execution_count": null,
      "outputs": []
    },
    {
      "cell_type": "markdown",
      "source": [
        "**コード11-14 学習済みモデルの傾きと切片を求める**"
      ],
      "metadata": {
        "id": "0rbFfe-ksAwu"
      }
    },
    {
      "cell_type": "code",
      "source": [
        "print(model_bc.coef_)\n",
        "print(model_bc.intercept_)"
      ],
      "metadata": {
        "id": "EMXMAk5harkh"
      },
      "execution_count": null,
      "outputs": []
    },
    {
      "cell_type": "markdown",
      "source": [
        "**コード11-15 検証データで分類を行う**"
      ],
      "metadata": {
        "id": "8Z1sEWd7x8_W"
      }
    },
    {
      "cell_type": "code",
      "source": [
        "print(model_bc.predict(x_test))"
      ],
      "metadata": {
        "id": "QuxJOPlCcRyv"
      },
      "execution_count": null,
      "outputs": []
    },
    {
      "cell_type": "code",
      "source": [
        "print(np.array(y_test))"
      ],
      "metadata": {
        "id": "O2O13pyrcbdg"
      },
      "execution_count": null,
      "outputs": []
    },
    {
      "cell_type": "markdown",
      "source": [
        "**コード11-16 Y=1/0に分類される確率を求める**"
      ],
      "metadata": {
        "id": "2rqxgZK8xyos"
      }
    },
    {
      "cell_type": "code",
      "source": [
        "print(model_bc.predict_proba(x_test))"
      ],
      "metadata": {
        "id": "XxgmYRLbdg8A"
      },
      "execution_count": null,
      "outputs": []
    },
    {
      "cell_type": "markdown",
      "source": [
        "**コード11-17 検証モデルでモデルの評価を行う**"
      ],
      "metadata": {
        "id": "PDpOmt-v3ytJ"
      }
    },
    {
      "cell_type": "code",
      "source": [
        "print(model_bc.score(x_test, y_test))"
      ],
      "metadata": {
        "id": "GdvuhLkn327S"
      },
      "execution_count": null,
      "outputs": []
    },
    {
      "cell_type": "markdown",
      "source": [
        "**コード11-18 混同行列の出力**"
      ],
      "metadata": {
        "id": "VKEVcils36s8"
      }
    },
    {
      "cell_type": "code",
      "source": [
        "from sklearn.metrics import confusion_matrix\n",
        "confusion_matrix(y_test, model_bc.predict(x_test), labels=[1,0])"
      ],
      "metadata": {
        "id": "DNxDw8nh2RI4",
        "colab": {
          "base_uri": "https://localhost:8080/"
        },
        "outputId": "adecd7b1-2c10-4573-82da-7a2f64e233ec"
      },
      "execution_count": null,
      "outputs": [
        {
          "output_type": "execute_result",
          "data": {
            "text/plain": [
              "array([[102,   6],\n",
              "       [  8,  55]])"
            ]
          },
          "metadata": {},
          "execution_count": 25
        }
      ]
    },
    {
      "cell_type": "markdown",
      "source": [
        "**コード11-19 AUCを算出**"
      ],
      "metadata": {
        "id": "cq1Xi2rbGUyM"
      }
    },
    {
      "cell_type": "code",
      "source": [
        "from sklearn.metrics import roc_auc_score\n",
        "roc_auc_score(y_test, model_bc.predict_proba(x_test)[:,1])"
      ],
      "metadata": {
        "id": "LW_43rfy_TDS",
        "colab": {
          "base_uri": "https://localhost:8080/"
        },
        "outputId": "4e00180b-2c70-430f-b992-1fcc4fbc418f"
      },
      "execution_count": 21,
      "outputs": [
        {
          "output_type": "execute_result",
          "data": {
            "text/plain": [
              "0.982363315696649"
            ]
          },
          "metadata": {},
          "execution_count": 21
        }
      ]
    }
  ]
}