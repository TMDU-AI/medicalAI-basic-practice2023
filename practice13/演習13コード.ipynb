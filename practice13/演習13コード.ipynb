{
  "nbformat": 4,
  "nbformat_minor": 0,
  "metadata": {
    "colab": {
      "provenance": []
    },
    "kernelspec": {
      "name": "python3",
      "display_name": "Python 3"
    },
    "language_info": {
      "name": "python"
    }
  },
  "cells": [
    {
      "cell_type": "markdown",
      "source": [
        "# **決定木**"
      ],
      "metadata": {
        "id": "jgSlHb9y8M7I"
      }
    },
    {
      "cell_type": "markdown",
      "source": [
        "# **STEP0：事前準備**"
      ],
      "metadata": {
        "id": "rFWFZjlQ_oig"
      }
    },
    {
      "cell_type": "markdown",
      "source": [
        "**コード13-1 ライブラリとモジュールをインポート**"
      ],
      "metadata": {
        "id": "-xMlTeCK_gdc"
      }
    },
    {
      "cell_type": "code",
      "execution_count": null,
      "metadata": {
        "id": "OdOc9KAytzIG"
      },
      "outputs": [],
      "source": [
        "import numpy as np\n",
        "import pandas as pd\n",
        "import matplotlib.pyplot as plt"
      ]
    },
    {
      "cell_type": "markdown",
      "source": [
        "# **STEP1: データの用意**"
      ],
      "metadata": {
        "id": "Jrh3xGtq_vi0"
      }
    },
    {
      "cell_type": "markdown",
      "source": [
        "**コード13-2 乳がんデータの読み込み**"
      ],
      "metadata": {
        "id": "l5lKb0YE_yQT"
      }
    },
    {
      "cell_type": "code",
      "source": [
        "from sklearn.datasets import load_breast_cancer\n",
        "bc = load_breast_cancer(as_frame=True)"
      ],
      "metadata": {
        "id": "WVRowW3u_4Ii"
      },
      "execution_count": null,
      "outputs": []
    },
    {
      "cell_type": "markdown",
      "source": [
        "**コード13-3 学習データと検証データに分割**"
      ],
      "metadata": {
        "id": "hHzOKCYB_8Uk"
      }
    },
    {
      "cell_type": "code",
      "source": [
        "from sklearn.model_selection import train_test_split\n",
        "x_train, x_test, y_train, y_test = train_test_split(bc.data,\n",
        "                                                  bc.target,\n",
        "                                                  test_size=0.3,\n",
        "                                                  random_state=0)"
      ],
      "metadata": {
        "id": "sLDiLA2R30Ir"
      },
      "execution_count": null,
      "outputs": []
    },
    {
      "cell_type": "markdown",
      "source": [
        "# **STEP2: 学習モデルの選択**"
      ],
      "metadata": {
        "id": "oyEoiP5OAOn9"
      }
    },
    {
      "cell_type": "markdown",
      "source": [
        "**コード13-4 学習モデルに決定木を選択**"
      ],
      "metadata": {
        "id": "0tBdSkMUAEPG"
      }
    },
    {
      "cell_type": "code",
      "source": [
        "from sklearn.tree import DecisionTreeClassifier\n",
        "model_tree_c = DecisionTreeClassifier(criterion='gini',\n",
        "                                      random_state=0)"
      ],
      "metadata": {
        "id": "f7UBVRYm8Mlg"
      },
      "execution_count": null,
      "outputs": []
    },
    {
      "cell_type": "markdown",
      "source": [
        "# **STEP3: データを入れて学習させる**"
      ],
      "metadata": {
        "id": "UzVyNZVhAUai"
      }
    },
    {
      "cell_type": "markdown",
      "source": [
        "**コード13-5 学習用データで学習させる**"
      ],
      "metadata": {
        "id": "X7BNNiXkAUNi"
      }
    },
    {
      "cell_type": "code",
      "source": [
        "model_tree_c.fit(x_train, y_train)"
      ],
      "metadata": {
        "id": "5AYJod5l8MhE"
      },
      "execution_count": null,
      "outputs": []
    },
    {
      "cell_type": "markdown",
      "source": [
        "# **STEP4: 決定木の図示**"
      ],
      "metadata": {
        "id": "_zGb-krdAf9F"
      }
    },
    {
      "cell_type": "markdown",
      "source": [
        "**コード13-6 決定木を図示する**"
      ],
      "metadata": {
        "id": "X2Pxcd_mAfwE"
      }
    },
    {
      "cell_type": "code",
      "source": [
        "from sklearn.tree import plot_tree\n",
        "\n",
        "plt.figure(figsize=(25,15))\n",
        "plot_tree(model_tree_c,\n",
        "              feature_names=bc.feature_names,\n",
        "              class_names=bc.target_names,\n",
        "              filled=True)\n",
        "plt.show()"
      ],
      "metadata": {
        "id": "YbpFHiJr9kG0"
      },
      "execution_count": null,
      "outputs": []
    },
    {
      "cell_type": "markdown",
      "source": [
        "**コード13-7 bcのfeature_namesの内容確認**"
      ],
      "metadata": {
        "id": "kZr6ieHmArAq"
      }
    },
    {
      "cell_type": "code",
      "source": [
        "bc.feature_names"
      ],
      "metadata": {
        "id": "QNJsS2ydaSDZ"
      },
      "execution_count": null,
      "outputs": []
    },
    {
      "cell_type": "code",
      "source": [
        "bc.feature_names.shape"
      ],
      "metadata": {
        "id": "3AuQprLrAz6O"
      },
      "execution_count": null,
      "outputs": []
    },
    {
      "cell_type": "code",
      "source": [
        "type(bc.feature_names)"
      ],
      "metadata": {
        "id": "X9T3BeQbY4b1"
      },
      "execution_count": null,
      "outputs": []
    },
    {
      "cell_type": "markdown",
      "source": [
        "**コード13-8 bcのtarget_namesの内容確認**"
      ],
      "metadata": {
        "id": "xG7kJ2P0A3y9"
      }
    },
    {
      "cell_type": "code",
      "source": [
        "bc.target_names"
      ],
      "metadata": {
        "id": "7HksvTmNcNe5"
      },
      "execution_count": null,
      "outputs": []
    },
    {
      "cell_type": "code",
      "source": [
        "bc.target_names.shape"
      ],
      "metadata": {
        "id": "ulmSxStBcr_2"
      },
      "execution_count": null,
      "outputs": []
    },
    {
      "cell_type": "code",
      "source": [
        "type(bc.target_names)"
      ],
      "metadata": {
        "id": "e__sQj3SeWko"
      },
      "execution_count": null,
      "outputs": []
    },
    {
      "cell_type": "markdown",
      "source": [
        "# **STEP5: 予測を行う**"
      ],
      "metadata": {
        "id": "pDdGuP70BHXT"
      }
    },
    {
      "cell_type": "markdown",
      "source": [
        "**コード13-9 検証データを用いて予測する**"
      ],
      "metadata": {
        "id": "gykXJ-YgBBsB"
      }
    },
    {
      "cell_type": "code",
      "source": [
        "print(model_tree_c.predict(x_test))\n",
        "print(np.array(y_test))"
      ],
      "metadata": {
        "id": "LpCSuyzJViLi"
      },
      "execution_count": null,
      "outputs": []
    },
    {
      "cell_type": "markdown",
      "source": [
        "**コード13-10 混同行列の出力**"
      ],
      "metadata": {
        "id": "N6SwKnSEvLQI"
      }
    },
    {
      "cell_type": "code",
      "source": [
        "from sklearn.metrics import confusion_matrix\n",
        "confusion_matrix(y_test, model_tree_c.predict(x_test), labels = [1,0])"
      ],
      "metadata": {
        "id": "gb3eQIlKvKWj"
      },
      "execution_count": null,
      "outputs": []
    },
    {
      "cell_type": "markdown",
      "source": [
        "# **STEP6: モデルの評価**"
      ],
      "metadata": {
        "id": "AeE4XfcuCBmw"
      }
    },
    {
      "cell_type": "markdown",
      "source": [
        "**コード13-11 正解率の出力**"
      ],
      "metadata": {
        "id": "yfnTsGnRCEv1"
      }
    },
    {
      "cell_type": "code",
      "source": [
        "print(model_tree_c.score(x_test,y_test))\n",
        "print(model_tree_c.score(x_train, y_train))"
      ],
      "metadata": {
        "id": "8f-oNkZd_gHd"
      },
      "execution_count": null,
      "outputs": []
    },
    {
      "cell_type": "markdown",
      "source": [
        "**コード13-12 検証用データでAUCを算出**"
      ],
      "metadata": {
        "id": "L6RN-77RCJzx"
      }
    },
    {
      "cell_type": "code",
      "source": [
        "from sklearn.metrics import roc_auc_score\n",
        "roc_auc_score(y_test, model_tree_c.predict_proba(x_test)[:,1])"
      ],
      "metadata": {
        "id": "sN-iXl3dyhrJ"
      },
      "execution_count": null,
      "outputs": []
    },
    {
      "cell_type": "markdown",
      "source": [
        "**コード13-13 ROC曲線の描出**"
      ],
      "metadata": {
        "id": "C3Ydu0mq3IaX"
      }
    },
    {
      "cell_type": "code",
      "source": [
        "from sklearn.metrics import RocCurveDisplay\n",
        "RocCurveDisplay.from_predictions(y_test,\n",
        "    model_tree_c.predict_proba(x_test)[:,1])\n",
        "plt.axis('square')\n",
        "plt.show()"
      ],
      "metadata": {
        "id": "YG2wN3f52nC_"
      },
      "execution_count": null,
      "outputs": []
    },
    {
      "cell_type": "markdown",
      "source": [
        "# **剪定したモデルの作成**"
      ],
      "metadata": {
        "id": "yJ_0FrnO04Th"
      }
    },
    {
      "cell_type": "markdown",
      "source": [
        "# **STEP2: 学習モデルの選択**"
      ],
      "metadata": {
        "id": "ZqagYN2bCRbk"
      }
    },
    {
      "cell_type": "markdown",
      "source": [
        "**コード13-14 剪定した学習モデルの選択**"
      ],
      "metadata": {
        "id": "cvAVsVlRCU7W"
      }
    },
    {
      "cell_type": "code",
      "source": [
        "model_tree_p = DecisionTreeClassifier(criterion='gini',\n",
        "                                      max_depth=3,\n",
        "                                      random_state=0)"
      ],
      "metadata": {
        "id": "RaqS3NLz07ij"
      },
      "execution_count": null,
      "outputs": []
    },
    {
      "cell_type": "markdown",
      "source": [
        "# **STEP3: データを入れて学習させる**"
      ],
      "metadata": {
        "id": "M-mFxh5QCcVu"
      }
    },
    {
      "cell_type": "markdown",
      "source": [
        "**コード13-15 学習用データで学習させる**"
      ],
      "metadata": {
        "id": "rQx6hQDNCgF3"
      }
    },
    {
      "cell_type": "code",
      "source": [
        "model_tree_p.fit(x_train, y_train)"
      ],
      "metadata": {
        "id": "cvx_6oOj1B1r"
      },
      "execution_count": null,
      "outputs": []
    },
    {
      "cell_type": "markdown",
      "source": [
        "**コード13-16 剪定モデルの図示**"
      ],
      "metadata": {
        "id": "TuWBzG4_Clyf"
      }
    },
    {
      "cell_type": "code",
      "source": [
        "plt.figure(figsize=(25,15))\n",
        "plot_tree(model_tree_p,\n",
        "              feature_names=bc.feature_names,\n",
        "              class_names=bc.target_names,\n",
        "              filled=True)\n",
        "plt.show()"
      ],
      "metadata": {
        "id": "6zR_0po_1BnX"
      },
      "execution_count": null,
      "outputs": []
    },
    {
      "cell_type": "markdown",
      "source": [
        "# **STEP5: 予測を行う**"
      ],
      "metadata": {
        "id": "YExl2RcVCrf0"
      }
    },
    {
      "cell_type": "markdown",
      "source": [
        "**コード13-17 剪定モデルの混同行列の出力**"
      ],
      "metadata": {
        "id": "ZyXsvtMpCugi"
      }
    },
    {
      "cell_type": "code",
      "source": [
        "confusion_matrix(y_test, model_tree_p.predict(x_test), labels=[1,0])"
      ],
      "metadata": {
        "id": "vbW4GecMf5pd"
      },
      "execution_count": null,
      "outputs": []
    },
    {
      "cell_type": "markdown",
      "source": [
        "# **STEP6: モデルの評価**"
      ],
      "metadata": {
        "id": "j_-rPYyXC0vQ"
      }
    },
    {
      "cell_type": "markdown",
      "source": [
        "**コード13-18 剪定モデルの正解率出力**"
      ],
      "metadata": {
        "id": "hscawkDwC3s1"
      }
    },
    {
      "cell_type": "code",
      "source": [
        "print(model_tree_p.score(x_test,y_test))\n",
        "print(model_tree_p.score(x_train, y_train))"
      ],
      "metadata": {
        "id": "jxBmzevh1g-9"
      },
      "execution_count": null,
      "outputs": []
    },
    {
      "cell_type": "markdown",
      "source": [
        "**コード13-19 剪定モデルのAUCを算出**"
      ],
      "metadata": {
        "id": "kWTPFcDvDAKA"
      }
    },
    {
      "cell_type": "code",
      "source": [
        "roc_auc_score(y_test, model_tree_p.predict_proba(x_test)[:,1])"
      ],
      "metadata": {
        "id": "pkpHwneE1yLR"
      },
      "execution_count": null,
      "outputs": []
    },
    {
      "cell_type": "markdown",
      "source": [
        "**コード13-20 ROC曲線の描出**"
      ],
      "metadata": {
        "id": "z-yV2jQ952xU"
      }
    },
    {
      "cell_type": "code",
      "source": [
        "RocCurveDisplay.from_predictions(y_test,\n",
        "    model_tree_p.predict_proba(x_test)[:,1])\n",
        "plt.axis('square')\n",
        "plt.show()"
      ],
      "metadata": {
        "id": "__N3o6X045Er"
      },
      "execution_count": null,
      "outputs": []
    },
    {
      "cell_type": "markdown",
      "source": [
        "**コード13-21 検証用データで適合率、再現率、F1値を出力する**"
      ],
      "metadata": {
        "id": "YobHqK-B3y1Q"
      }
    },
    {
      "cell_type": "code",
      "source": [
        "from sklearn.metrics import classification_report\n",
        "pd.DataFrame(classification_report(y_test, model_tree_p.predict(x_test), output_dict = True))"
      ],
      "metadata": {
        "id": "WCfQGQkNxsNi"
      },
      "execution_count": null,
      "outputs": []
    }
  ]
}